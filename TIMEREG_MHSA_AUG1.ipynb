{
  "cells": [
    {
      "cell_type": "markdown",
      "metadata": {
        "id": "view-in-github",
        "colab_type": "text"
      },
      "source": [
        "<a href=\"https://colab.research.google.com/github/hyang0129/2022TSR/blob/main/TIMEREG_MHSA_AUG1.ipynb\" target=\"_parent\"><img src=\"https://colab.research.google.com/assets/colab-badge.svg\" alt=\"Open In Colab\"/></a>"
      ]
    },
    {
      "cell_type": "code",
      "execution_count": 1,
      "metadata": {
        "colab": {
          "base_uri": "https://localhost:8080/"
        },
        "id": "oNBlaAJmrF2Q",
        "outputId": "0c14f622-c9f7-4738-9083-cfc4f0253ce8"
      },
      "outputs": [
        {
          "output_type": "stream",
          "name": "stdout",
          "text": [
            "fatal: destination path 'TimeSeriesRegularization' already exists and is not an empty directory.\n",
            "Already on 'inceptiontime'\n",
            "Your branch is up to date with 'origin/inceptiontime'.\n",
            "HEAD is now at e68e509 added simple mhsa\n",
            "Already up to date.\n",
            "\u001b[K     |████████████████████████████████| 9.5 MB 4.3 MB/s \n",
            "\u001b[?25h"
          ]
        }
      ],
      "source": [
        "!git clone https://github.com/hyang0129/TimeSeriesRegularization.git\n",
        "!(cd TimeSeriesRegularization ; git checkout inceptiontime; git reset --hard HEAD; git pull)\n",
        "# !(cd TimeSeriesRegularization ; git checkout main; git reset --hard HEAD; git pull)\n",
        "!(cd TimeSeriesRegularization ; pip install -r requirements.txt -q)\n"
      ]
    },
    {
      "cell_type": "code",
      "execution_count": 2,
      "metadata": {
        "id": "WjkdC3yrEGjQ"
      },
      "outputs": [],
      "source": [
        "import sys \n",
        "sys.path.append('TimeSeriesRegularization')"
      ]
    },
    {
      "cell_type": "code",
      "execution_count": 3,
      "metadata": {
        "id": "q37ORC0lrWnO"
      },
      "outputs": [],
      "source": [
        "%load_ext autoreload\n"
      ]
    },
    {
      "cell_type": "code",
      "execution_count": 4,
      "metadata": {
        "colab": {
          "base_uri": "https://localhost:8080/"
        },
        "id": "olP2LSCwGRua",
        "outputId": "b7593f5f-8e1a-4dab-ed2f-94f8ba1d1d20"
      },
      "outputs": [
        {
          "output_type": "stream",
          "name": "stderr",
          "text": [
            "TimeSeriesRegularization/tsr/datasets/ngafid.py:5: TqdmExperimentalWarning: Using `tqdm.autonotebook.tqdm` in notebook mode. Use `tqdm.tqdm` instead to force console mode (e.g. in jupyter console)\n",
            "  from tqdm.autonotebook import tqdm\n"
          ]
        }
      ],
      "source": [
        "%autoreload\n",
        "\n",
        "from tsr.datasets.datasetmanager import DatasetManager\n",
        "from tsr.datasets import TEP_DatasetManager\n",
        "from tsr.config import Config\n",
        "import gdown\n",
        "import pandas as pd\n",
        "import numpy as np\n",
        "from sklearn import preprocessing\n",
        "from tqdm.autonotebook import tqdm\n",
        "import tensorflow as tf\n",
        "from loguru import logger\n",
        "import pyreadr as py\n",
        "from sklearn.model_selection import train_test_split, KFold\n",
        "from tsr.utils import shell_exec\n",
        "from tsr.tpusetup import connect_to_tpu\n",
        "from tsr.datasets import UAE_DatasetManager\n",
        "from tsr.models.attention import ConvMHSA\n",
        "\n",
        "\n",
        "# df = pd.read_parquet('/content/drive/Shareddrives/KAGGLE/TSR/TEP/TEP_data.parquet', engine='pyarrow')\n",
        "\n"
      ]
    },
    {
      "cell_type": "code",
      "execution_count": 5,
      "metadata": {
        "colab": {
          "base_uri": "https://localhost:8080/"
        },
        "id": "cjFEx3SicQ72",
        "outputId": "cf9efd5a-afdc-4779-e413-59decd6898c9"
      },
      "outputs": [
        {
          "output_type": "stream",
          "name": "stderr",
          "text": [
            "2022-01-26 00:46:29.204 | DEBUG    | tsr.config:collect_sub_configs:141 - Sub Config Not Specified for hyperparameters config group\n",
            "2022-01-26 00:46:29.212 | DEBUG    | tsr.config:collect_sub_configs:141 - Sub Config Not Specified for model config group\n",
            "2022-01-26 00:46:29.213 | DEBUG    | tsr.config:__init__:62 - {'model': {'architecture_name': 'conv_mhsa', 'input_shape': [500, 52], 'conv_filters': [128, 128, 512], 'kernel': [7, 7, 7], 'strides': [1, 2, 2], 'num_heads': 8, 'd_model': 512, 'dff': 512}}\n",
            "2022-01-26 00:46:29.217 | INFO     | tsr.config:collect_sub_configs:138 - Added Subconfig for model from TimeSeriesRegularization/tsr/configs/model/conv_mhsa_tep.yaml\n",
            "2022-01-26 00:46:29.221 | DEBUG    | tsr.config:collect_sub_configs:141 - Sub Config Not Specified for augment config group\n",
            "2022-01-26 00:46:29.226 | DEBUG    | tsr.config:collect_sub_configs:141 - Sub Config Not Specified for environment config group\n",
            "2022-01-26 00:46:29.230 | DEBUG    | tsr.config:__init__:62 - {'hyperparameters': {'NFOLD': 5, 'truncate_last_timesteps': 4096, 'num_class': 21, 'batch_size': 32, 'training_epochs': 30, 'training_steps_per_epoch': 500, 'shuffle_buffer': 1024}, 'model': {'architecture_name': 'conv_mhsa', 'input_shape': [500, 52], 'conv_filters': [128, 128, 512], 'kernel': [7, 7, 7], 'strides': [1, 2, 2], 'num_heads': 8, 'd_model': 512, 'dff': 512}, 'augment': {'random_shift': {'backward': 32, 'forward': 32}}, 'environment': {'type': 'colab_tpu'}}\n",
            "2022-01-26 00:46:29.235 | INFO     | tsr.datasets.uae:download_and_unzip:134 - Downloading UAE Archive for Multivariate TS Classification\n",
            "2022-01-26 00:47:02.782 | DEBUG    | tsr.datasets.uae:download_and_unzip:137 - Unzipping completed\n"
          ]
        }
      ],
      "source": [
        "\n",
        "config = Config.get_standard_config('TEP.yaml')\n",
        "config.as_attr_dict()\n",
        "dsm = UAE_DatasetManager(config)\n",
        "\n"
      ]
    },
    {
      "cell_type": "code",
      "execution_count": 6,
      "metadata": {
        "colab": {
          "base_uri": "https://localhost:8080/"
        },
        "id": "Ie6sVq2cjUoa",
        "outputId": "a4f4ea86-5ee0-493c-9e42-2b46894155e8"
      },
      "outputs": [
        {
          "output_type": "stream",
          "name": "stdout",
          "text": [
            "TPU address is grpc://10.114.5.82:8470\n",
            "Running on TPU  grpc://10.114.5.82:8470\n",
            "INFO:tensorflow:Clearing out eager caches\n"
          ]
        },
        {
          "output_type": "stream",
          "name": "stderr",
          "text": [
            "INFO:tensorflow:Clearing out eager caches\n"
          ]
        },
        {
          "output_type": "stream",
          "name": "stdout",
          "text": [
            "INFO:tensorflow:Initializing the TPU system: grpc://10.114.5.82:8470\n"
          ]
        },
        {
          "output_type": "stream",
          "name": "stderr",
          "text": [
            "INFO:tensorflow:Initializing the TPU system: grpc://10.114.5.82:8470\n"
          ]
        },
        {
          "output_type": "stream",
          "name": "stdout",
          "text": [
            "INFO:tensorflow:Finished initializing TPU system.\n"
          ]
        },
        {
          "output_type": "stream",
          "name": "stderr",
          "text": [
            "INFO:tensorflow:Finished initializing TPU system.\n",
            "WARNING:absl:`tf.distribute.experimental.TPUStrategy` is deprecated, please use  the non experimental symbol `tf.distribute.TPUStrategy` instead.\n"
          ]
        },
        {
          "output_type": "stream",
          "name": "stdout",
          "text": [
            "INFO:tensorflow:Found TPU system:\n"
          ]
        },
        {
          "output_type": "stream",
          "name": "stderr",
          "text": [
            "INFO:tensorflow:Found TPU system:\n"
          ]
        },
        {
          "output_type": "stream",
          "name": "stdout",
          "text": [
            "INFO:tensorflow:*** Num TPU Cores: 8\n"
          ]
        },
        {
          "output_type": "stream",
          "name": "stderr",
          "text": [
            "INFO:tensorflow:*** Num TPU Cores: 8\n"
          ]
        },
        {
          "output_type": "stream",
          "name": "stdout",
          "text": [
            "INFO:tensorflow:*** Num TPU Workers: 1\n"
          ]
        },
        {
          "output_type": "stream",
          "name": "stderr",
          "text": [
            "INFO:tensorflow:*** Num TPU Workers: 1\n"
          ]
        },
        {
          "output_type": "stream",
          "name": "stdout",
          "text": [
            "INFO:tensorflow:*** Num TPU Cores Per Worker: 8\n"
          ]
        },
        {
          "output_type": "stream",
          "name": "stderr",
          "text": [
            "INFO:tensorflow:*** Num TPU Cores Per Worker: 8\n"
          ]
        },
        {
          "output_type": "stream",
          "name": "stdout",
          "text": [
            "INFO:tensorflow:*** Available Device: _DeviceAttributes(/job:localhost/replica:0/task:0/device:CPU:0, CPU, 0, 0)\n"
          ]
        },
        {
          "output_type": "stream",
          "name": "stderr",
          "text": [
            "INFO:tensorflow:*** Available Device: _DeviceAttributes(/job:localhost/replica:0/task:0/device:CPU:0, CPU, 0, 0)\n"
          ]
        },
        {
          "output_type": "stream",
          "name": "stdout",
          "text": [
            "INFO:tensorflow:*** Available Device: _DeviceAttributes(/job:worker/replica:0/task:0/device:CPU:0, CPU, 0, 0)\n"
          ]
        },
        {
          "output_type": "stream",
          "name": "stderr",
          "text": [
            "INFO:tensorflow:*** Available Device: _DeviceAttributes(/job:worker/replica:0/task:0/device:CPU:0, CPU, 0, 0)\n"
          ]
        },
        {
          "output_type": "stream",
          "name": "stdout",
          "text": [
            "INFO:tensorflow:*** Available Device: _DeviceAttributes(/job:worker/replica:0/task:0/device:TPU:0, TPU, 0, 0)\n"
          ]
        },
        {
          "output_type": "stream",
          "name": "stderr",
          "text": [
            "INFO:tensorflow:*** Available Device: _DeviceAttributes(/job:worker/replica:0/task:0/device:TPU:0, TPU, 0, 0)\n"
          ]
        },
        {
          "output_type": "stream",
          "name": "stdout",
          "text": [
            "INFO:tensorflow:*** Available Device: _DeviceAttributes(/job:worker/replica:0/task:0/device:TPU:1, TPU, 0, 0)\n"
          ]
        },
        {
          "output_type": "stream",
          "name": "stderr",
          "text": [
            "INFO:tensorflow:*** Available Device: _DeviceAttributes(/job:worker/replica:0/task:0/device:TPU:1, TPU, 0, 0)\n"
          ]
        },
        {
          "output_type": "stream",
          "name": "stdout",
          "text": [
            "INFO:tensorflow:*** Available Device: _DeviceAttributes(/job:worker/replica:0/task:0/device:TPU:2, TPU, 0, 0)\n"
          ]
        },
        {
          "output_type": "stream",
          "name": "stderr",
          "text": [
            "INFO:tensorflow:*** Available Device: _DeviceAttributes(/job:worker/replica:0/task:0/device:TPU:2, TPU, 0, 0)\n"
          ]
        },
        {
          "output_type": "stream",
          "name": "stdout",
          "text": [
            "INFO:tensorflow:*** Available Device: _DeviceAttributes(/job:worker/replica:0/task:0/device:TPU:3, TPU, 0, 0)\n"
          ]
        },
        {
          "output_type": "stream",
          "name": "stderr",
          "text": [
            "INFO:tensorflow:*** Available Device: _DeviceAttributes(/job:worker/replica:0/task:0/device:TPU:3, TPU, 0, 0)\n"
          ]
        },
        {
          "output_type": "stream",
          "name": "stdout",
          "text": [
            "INFO:tensorflow:*** Available Device: _DeviceAttributes(/job:worker/replica:0/task:0/device:TPU:4, TPU, 0, 0)\n"
          ]
        },
        {
          "output_type": "stream",
          "name": "stderr",
          "text": [
            "INFO:tensorflow:*** Available Device: _DeviceAttributes(/job:worker/replica:0/task:0/device:TPU:4, TPU, 0, 0)\n"
          ]
        },
        {
          "output_type": "stream",
          "name": "stdout",
          "text": [
            "INFO:tensorflow:*** Available Device: _DeviceAttributes(/job:worker/replica:0/task:0/device:TPU:5, TPU, 0, 0)\n"
          ]
        },
        {
          "output_type": "stream",
          "name": "stderr",
          "text": [
            "INFO:tensorflow:*** Available Device: _DeviceAttributes(/job:worker/replica:0/task:0/device:TPU:5, TPU, 0, 0)\n"
          ]
        },
        {
          "output_type": "stream",
          "name": "stdout",
          "text": [
            "INFO:tensorflow:*** Available Device: _DeviceAttributes(/job:worker/replica:0/task:0/device:TPU:6, TPU, 0, 0)\n"
          ]
        },
        {
          "output_type": "stream",
          "name": "stderr",
          "text": [
            "INFO:tensorflow:*** Available Device: _DeviceAttributes(/job:worker/replica:0/task:0/device:TPU:6, TPU, 0, 0)\n"
          ]
        },
        {
          "output_type": "stream",
          "name": "stdout",
          "text": [
            "INFO:tensorflow:*** Available Device: _DeviceAttributes(/job:worker/replica:0/task:0/device:TPU:7, TPU, 0, 0)\n"
          ]
        },
        {
          "output_type": "stream",
          "name": "stderr",
          "text": [
            "INFO:tensorflow:*** Available Device: _DeviceAttributes(/job:worker/replica:0/task:0/device:TPU:7, TPU, 0, 0)\n"
          ]
        },
        {
          "output_type": "stream",
          "name": "stdout",
          "text": [
            "INFO:tensorflow:*** Available Device: _DeviceAttributes(/job:worker/replica:0/task:0/device:TPU_SYSTEM:0, TPU_SYSTEM, 0, 0)\n"
          ]
        },
        {
          "output_type": "stream",
          "name": "stderr",
          "text": [
            "INFO:tensorflow:*** Available Device: _DeviceAttributes(/job:worker/replica:0/task:0/device:TPU_SYSTEM:0, TPU_SYSTEM, 0, 0)\n"
          ]
        },
        {
          "output_type": "stream",
          "name": "stdout",
          "text": [
            "INFO:tensorflow:*** Available Device: _DeviceAttributes(/job:worker/replica:0/task:0/device:XLA_CPU:0, XLA_CPU, 0, 0)\n"
          ]
        },
        {
          "output_type": "stream",
          "name": "stderr",
          "text": [
            "INFO:tensorflow:*** Available Device: _DeviceAttributes(/job:worker/replica:0/task:0/device:XLA_CPU:0, XLA_CPU, 0, 0)\n"
          ]
        },
        {
          "output_type": "stream",
          "name": "stdout",
          "text": [
            "REPLICAS:  8\n"
          ]
        }
      ],
      "source": [
        "strategy = connect_to_tpu()"
      ]
    },
    {
      "cell_type": "code",
      "execution_count": 6,
      "metadata": {
        "id": "OELPLxgRk6q5"
      },
      "outputs": [],
      "source": [
        "\n"
      ]
    },
    {
      "cell_type": "code",
      "execution_count": 7,
      "metadata": {
        "id": "Pk1WdaXyk6-i"
      },
      "outputs": [],
      "source": [
        "\n",
        "# def get_to_length(length):\n",
        "#     def to_length(a): \n",
        "#         return np.pad(a, (0, np.max(length - len(a), 0)))\n",
        "#     return to_length \n",
        "\n",
        "# def get_max_length(x):\n",
        "#     return np.max(x.iloc[:, 0].apply(lambda x : len(x)))\n",
        "\n",
        "# max = get_max_length(x)\n",
        "\n",
        "\n",
        "# x = x.iloc[:, 0:].applymap(get_to_length(max))\n"
      ]
    },
    {
      "cell_type": "code",
      "execution_count": 8,
      "metadata": {
        "colab": {
          "base_uri": "https://localhost:8080/"
        },
        "id": "3toODcgyqhFA",
        "outputId": "a3bc9a51-00f7-4cd9-b95b-dd4dc1479ba6"
      },
      "outputs": [
        {
          "output_type": "stream",
          "name": "stdout",
          "text": [
            "0 ArticularyWordRecognition\n",
            "1 AtrialFibrillation\n",
            "2 BasicMotions\n",
            "3 Cricket\n",
            "4 DuckDuckGeese\n",
            "5 ERing\n",
            "6 EigenWorms\n",
            "7 Epilepsy\n",
            "8 EthanolConcentration\n",
            "9 FaceDetection\n",
            "10 FingerMovements\n",
            "11 HandMovementDirection\n",
            "12 Handwriting\n",
            "13 Heartbeat\n",
            "14 LSST\n",
            "15 Libras\n",
            "16 MotorImagery\n",
            "17 NATOPS\n",
            "18 PEMS-SF\n",
            "19 PenDigits\n",
            "20 PhonemeSpectra\n",
            "21 RacketSports\n",
            "22 SelfRegulationSCP1\n",
            "23 SelfRegulationSCP2\n",
            "24 StandWalkJump\n",
            "25 UWaveGestureLibrary\n"
          ]
        }
      ],
      "source": [
        "for i in np.array(range(len(list(dsm.directories.keys())))):\n",
        "    \n",
        "    print(i, list(dsm.directories.keys())[i])"
      ]
    },
    {
      "cell_type": "markdown",
      "metadata": {
        "id": "6fjeLKle1ezy"
      },
      "source": [
        "# GET DATASET"
      ]
    },
    {
      "cell_type": "code",
      "execution_count": 9,
      "metadata": {
        "id": "jS_z75sSoC-C"
      },
      "outputs": [],
      "source": [
        "# results = []\n",
        "\n",
        "# index = 1\n",
        "# for i in np.array(range(len(list(dsm.directories.keys()))))[index:index+1]:\n",
        "\n",
        "#     print(i, list(dsm.directories.keys())[i])\n",
        "\n",
        "#     x, y = dsm.get_dataset_as_array(list(dsm.directories.keys())[i], split = 'TRAIN')\n",
        "#     x_test, y_test = dsm.get_dataset_as_array(list(dsm.directories.keys())[i], split = 'TEST')\n",
        "\n",
        "#     ds, test_ds, x = dsm.get_datasets_as_tf(list(dsm.directories.keys())[i])\n",
        "\n",
        "\n",
        "\n"
      ]
    },
    {
      "cell_type": "markdown",
      "metadata": {
        "id": "d3-7WS1S1ggR"
      },
      "source": [
        "# AUG"
      ]
    },
    {
      "cell_type": "code",
      "execution_count": 10,
      "metadata": {
        "id": "Kb9p9NIQrnYu"
      },
      "outputs": [],
      "source": [
        "# from tsr.methods.augmentation import Cutmix, Mixup, Cutout \n",
        "\n",
        "\n",
        "# def get_augs(SHAPE, BATCH_SIZE = 64, DO_PROB=0.5, element_prob = 0.5):\n",
        "    \n",
        "\n",
        "#     mixup = Mixup(batch_size = BATCH_SIZE, \n",
        "#                 do_prob = DO_PROB,\n",
        "#                 sequence_shape =  SHAPE[1:],\n",
        "#                 linear_mix_min = 0.1,\n",
        "#                 linear_mix_max = 0.5)\n",
        "    \n",
        "#     cutmix = Cutmix(batch_size = BATCH_SIZE, \n",
        "#                 do_prob = DO_PROB,\n",
        "#                 sequence_shape =  SHAPE[1:],\n",
        "#                 min_cutmix_len = SHAPE[1]//2,\n",
        "#                 max_cutmix_len =  SHAPE[1],\n",
        "#                 channel_replace_prob = element_prob,\n",
        "\n",
        "#     )\n",
        "#     cutmix.batch = BATCH_SIZE\n",
        "#     cutout = Cutout(\n",
        "#         batch_size = BATCH_SIZE, \n",
        "#         do_prob = DO_PROB,\n",
        "#         sequence_shape =  SHAPE[1:],\n",
        "#         min_cutout_len =  SHAPE[1]//2,\n",
        "#         max_cutout_len =  SHAPE[1],\n",
        "#         channel_drop_prob = element_prob,\n",
        "#     )\n",
        "#     cutout.batch = BATCH_SIZE\n",
        "\n",
        "\n",
        "#     def batch_aug(x, y): \n",
        "#         example = {'input': x, 'target': y}\n",
        "#         example = cutmix(example)\n",
        "#         example = cutout(example)\n",
        "#         example = mixup(example)\n",
        "#         x, y = example['input'], example['target']\n",
        "#         return x, y\n",
        "#     return batch_aug\n",
        "\n",
        "#     return batch_aug\n",
        "\n"
      ]
    },
    {
      "cell_type": "markdown",
      "metadata": {
        "id": "Ad3JoLB41h1K"
      },
      "source": [
        "# MODEL"
      ]
    },
    {
      "cell_type": "code",
      "execution_count": 11,
      "metadata": {
        "id": "m0LWGeyT2aAk"
      },
      "outputs": [],
      "source": [
        "from tsr.models.attention import EncoderLayer\n",
        "from tsr.config import Config\n",
        "\n",
        "\n",
        "def get_angles(pos, i, d_model):\n",
        "    angle_rates = 1 / np.power(10000, (2 * (i//2)) / np.float32(d_model))\n",
        "    return pos * angle_rates\n",
        "\n",
        "def positional_encoding(position, d_model):\n",
        "    angle_rads = get_angles(np.arange(position)[:, np.newaxis],\n",
        "                            np.arange(d_model)[np.newaxis, :],\n",
        "                            d_model)\n",
        "\n",
        "    # apply sin to even indices in the array; 2i\n",
        "    angle_rads[:, 0::2] = np.sin(angle_rads[:, 0::2])\n",
        "\n",
        "    # apply cos to odd indices in the array; 2i+1\n",
        "    angle_rads[:, 1::2] = np.cos(angle_rads[:, 1::2])\n",
        "\n",
        "    pos_encoding = angle_rads[np.newaxis, ...]\n",
        "\n",
        "    return tf.cast(pos_encoding, dtype=tf.float32)\n",
        "\n",
        "class PositionalEncoding(tf.keras.layers.Layer):\n",
        "\n",
        "    def __init__(self, maximum_position_encoding = 1000, d_model = 256):\n",
        "        super(PositionalEncoding, self).__init__()\n",
        "\n",
        "        self.pos_encoding = positional_encoding(maximum_position_encoding,\n",
        "                                        d_model)\n",
        "\n",
        "    def call(self, x):\n",
        "\n",
        "        seq_len = tf.shape(x)[1]\n",
        "        x += self.pos_encoding[:, :seq_len, :]\n",
        "\n",
        "        return x \n",
        "\n",
        "\n",
        "\n",
        "class ConvMHSA(tf.keras.Sequential):\n",
        "    @classmethod\n",
        "    def from_config(cls, config: Config):\n",
        "\n",
        "        if config.hyperparameters.num_class > 2:\n",
        "            output = tf.keras.layers.Dense(config.hyperparameters.num_class, activation=\"softmax\")\n",
        "        else:\n",
        "            output = (tf.keras.layers.Dense(1, activation=\"sigmoid\"),)\n",
        "\n",
        "        mc = config.model\n",
        "        return cls(\n",
        "            input_shape=mc.input_shape,\n",
        "            conv_filters=mc.conv_filters,\n",
        "            kernel=mc.kernel,\n",
        "            strides=mc.strides,\n",
        "            num_heads=mc.num_heads,\n",
        "            d_model=mc.d_model,\n",
        "            dff=mc.dff,\n",
        "            output=output,\n",
        "        )\n",
        "\n",
        "    def __init__(\n",
        "        self,\n",
        "        input_shape=(4096, 23),\n",
        "        conv_filters=[128, 128, 256, 256, 512],\n",
        "        kernel=[7, 7, 3, 7, 7],\n",
        "        strides=[1, 2, 1, 2, 2],\n",
        "        num_heads=8,\n",
        "        d_model=512,\n",
        "        dff=512,\n",
        "        output: tf.keras.layers.Layer = tf.keras.layers.Dense(1, activation=\"sigmoid\"),\n",
        "    ):\n",
        "\n",
        "        super().__init__(\n",
        "            [\n",
        "                tf.keras.Input(shape=input_shape),\n",
        "            ]\n",
        "            + [\n",
        "                tf.keras.layers.Conv1D(\n",
        "                    filters=conv_filters[i],\n",
        "                    kernel_size=kernel[i],\n",
        "                    strides=strides[i],\n",
        "                    padding=\"same\",\n",
        "                    activation=\"relu\",\n",
        "                )\n",
        "                for i in range(len(kernel))\n",
        "            ] \n",
        "            +\n",
        "            [\n",
        "                tf.keras.layers.Conv1D(\n",
        "                    filters=d_model,\n",
        "                    kernel_size=13,\n",
        "                    strides=1,\n",
        "                    padding=\"same\",\n",
        "                    activation=\"tanh\",\n",
        "                )\n",
        "            ]\n",
        "            + [\n",
        "                # tf.keras.layers.Activation('tanh'),\n",
        "                PositionalEncoding(d_model = d_model),\n",
        "                EncoderLayer(d_model=d_model, num_heads=num_heads, dff=dff),\n",
        "                # EncoderLayer(d_model=d_model, num_heads=num_heads, dff=dff),\n",
        "                # tf.keras.layers.GlobalAveragePooling1D(),\n",
        "               tf.keras.layers.Lambda( lambda x : x[:, -1, :]), \n",
        "                output,\n",
        "            ]\n",
        "        )\n"
      ]
    },
    {
      "cell_type": "code",
      "execution_count": 12,
      "metadata": {
        "id": "focb17xJ1oeL"
      },
      "outputs": [],
      "source": [
        "import tensorflow as tf\n",
        "\n",
        "\n",
        "\n",
        "class InceptionBlock(tf.keras.layers.Layer):\n",
        "\n",
        "\n",
        "    def __init__(self,\n",
        "                 nb_filters=32,\n",
        "                 use_bottleneck=True,\n",
        "                 kernel_size=41,\n",
        "                 stride = 1,\n",
        "                 depth = 3):\n",
        "\n",
        "        super().__init__()\n",
        "        self.nb_filters = nb_filters\n",
        "        self.use_bottleneck = use_bottleneck\n",
        "        self.kernel_size = kernel_size - 1\n",
        "        self.callbacks = None\n",
        "        self.bottleneck_size = 32\n",
        "        self.stride = stride\n",
        "        self.depth = depth\n",
        "\n",
        "\n",
        "    def build(self, input_shape): \n",
        "        input_tensor = tf.keras.Input(input_shape[1:])\n",
        "\n",
        "        x = input_tensor \n",
        "        shortcut_x = input_tensor\n",
        "\n",
        "        for d in range(self.depth):\n",
        "            stride = self.stride if d == self.depth - 1 else 1\n",
        "            x = InceptionLayer(\n",
        "                nb_filters =  self.nb_filters,\n",
        "                use_bottleneck = self.use_bottleneck,\n",
        "                kernel_size = self.kernel_size,\n",
        "                stride = stride,\n",
        "            )(x)\n",
        "\n",
        "        x = ShortcutLayer(stride = self.stride)([x, shortcut_x])\n",
        "\n",
        "        self.model = tf.keras.models.Model(inputs=input_tensor, outputs=x)\n",
        "\n",
        "\n",
        "    def call(self, x):\n",
        "        return self.model(x)\n",
        "\n",
        "\n",
        "class InceptionLayer(tf.keras.layers.Layer):\n",
        "\n",
        "    def __init__(self,\n",
        "                 nb_filters=32,\n",
        "                 use_bottleneck=True,\n",
        "                 kernel_size=41,\n",
        "                 stride = 1):\n",
        "\n",
        "        super().__init__()\n",
        "        self.nb_filters = nb_filters\n",
        "        self.use_bottleneck = use_bottleneck\n",
        "        self.kernel_size = kernel_size - 1\n",
        "        self.callbacks = None\n",
        "        self.bottleneck_size = 32\n",
        "        self.stride = stride\n",
        "\n",
        "    def build(self, input_tensor):\n",
        "        activation = 'linear'\n",
        "        stride = self.stride\n",
        "        input_tensor = tf.keras.Input(input_tensor[1:])\n",
        "\n",
        "        if self.use_bottleneck and int(input_tensor.shape[-1]) > 1:\n",
        "            input_inception = tf.keras.layers.Conv1D(filters=self.bottleneck_size, kernel_size=1,\n",
        "                                                  padding='same', activation=activation, use_bias=False)(input_tensor)\n",
        "        else:\n",
        "            input_inception = input_tensor\n",
        "\n",
        "        # kernel_size_s = [3, 5, 8, 11, 17]\n",
        "        kernel_size_s = [self.kernel_size // (2 ** i) for i in range(3)]\n",
        "\n",
        "        conv_list = []\n",
        "\n",
        "        for i in range(len(kernel_size_s)):\n",
        "            conv_list.append(tf.keras.layers.Conv1D(filters=self.nb_filters, kernel_size=kernel_size_s[i],\n",
        "                                                 strides=stride, padding='same', activation=activation, use_bias=False)(\n",
        "                input_inception))\n",
        "\n",
        "        max_pool_1 = tf.keras.layers.MaxPool1D(pool_size=3, strides=stride, padding='same')(input_tensor)\n",
        "\n",
        "        conv_6 = tf.keras.layers.Conv1D(filters=self.nb_filters, kernel_size=1,\n",
        "                                     padding='same', activation=activation, use_bias=False)(max_pool_1)\n",
        "\n",
        "        conv_list.append(conv_6)\n",
        "\n",
        "        x = tf.keras.layers.Concatenate(axis=2)(conv_list)\n",
        "        x = tf.keras.layers.BatchNormalization()(x)\n",
        "        x = tf.keras.layers.Activation(activation='relu')(x)\n",
        "        \n",
        "        self.model = tf.keras.models.Model(inputs=input_tensor, outputs=x)\n",
        "\n",
        "    def call(self, x):\n",
        "        return self.model(x)\n",
        "        \n",
        "\n",
        "class ShortcutLayer(tf.keras.layers.Layer):\n",
        "\n",
        "    def __init__(self, stride = 1):\n",
        "        super().__init__()\n",
        "        self.stride = stride\n",
        "\n",
        "    def build(self, input_shapes):\n",
        "\n",
        "        input_tensor, shortcut_tensor = input_shapes\n",
        "        input_tensor, shortcut_tensor = (tf.keras.Input(input_tensor[1:]), tf.keras.Input(shortcut_tensor[1:]))\n",
        "\n",
        "        shortcut_y = tf.keras.layers.Conv1D(filters = int(input_tensor.shape[-1]), kernel_size = 1,\n",
        "                                            padding = 'same', use_bias = False)(shortcut_tensor)\n",
        "        shortcut_y = tf.keras.layers.BatchNormalization()(shortcut_y)\n",
        "        shortcut_y = tf.keras.layers.MaxPool1D(pool_size=self.stride, strides=self.stride, padding='same')(shortcut_y)\n",
        "        \n",
        "        x = tf.keras.layers.Add()([input_tensor, shortcut_y])\n",
        "        x = tf.keras.layers.Activation('relu')(x)  \n",
        "\n",
        "        self.model = tf.keras.Model(inputs=(input_tensor, shortcut_tensor), outputs=x)\n",
        "\n",
        "    def call(self, inputs):\n",
        "        return self.model(inputs)\n",
        "\n",
        "\n",
        "def get_model(num_class=3):\n",
        "\n",
        "    d_model = 512\n",
        "    num_heads = 8\n",
        "    dff = 512 \n",
        "\n",
        "    model = tf.keras.Sequential([\n",
        "        tf.keras.layers.Input((1751, 3)), \n",
        "        # tf.keras.layers.Conv1D(64, 3),\n",
        "        # InceptionLayer(),\n",
        "        InceptionBlock(stride=2),\n",
        "        InceptionBlock(stride=2),\n",
        "        tf.keras.layers.Conv1D(d_model, 1, activation = 'tanh'),\n",
        "        PositionalEncoding(d_model = d_model),\n",
        "        EncoderLayer(d_model=d_model, num_heads=num_heads, dff=dff),\n",
        "        EncoderLayer(d_model=d_model, num_heads=num_heads, dff=dff),\n",
        "        tf.keras.layers.Lambda( lambda x : x[:, -1, :]), \n",
        "        # tf.keras.layers.GlobalAveragePooling1D(),\n",
        "        tf.keras.layers.Dense(num_class, activation=\"softmax\")\n",
        "    ]\n",
        "    )\n",
        "\n",
        "    return model \n",
        "\n",
        "# model = get_model()    \n",
        "# model.summary()"
      ]
    },
    {
      "cell_type": "code",
      "execution_count": 13,
      "metadata": {
        "id": "wxqev0ku1kNi"
      },
      "outputs": [],
      "source": [
        "\n",
        "\n",
        "# with strategy.scope():\n",
        "#     model = get_model(num_class=4)\n",
        "\n",
        "#     model.compile(optimizer = tf.keras.optimizers.Adam(learning_rate=3e-5),\n",
        "#             metrics = [\n",
        "#                         tf.keras.metrics.SparseCategoricalAccuracy()\n",
        "#             ], \n",
        "#             loss = tf.keras.losses.SparseCategoricalCrossentropy(from_logits=False))\n",
        "\n",
        "# history = model.fit(\n",
        "#     ds.map(get_augs(x , DO_PROB=0.9)), \n",
        "#     steps_per_epoch = 100, \n",
        "#     epochs = 100, \n",
        "#     validation_data = test_ds,\n",
        "#     # callbacks = callbacks,\n",
        "# )\n",
        "\n",
        "# result = (i, list(dsm.directories.keys())[i], model.evaluate(test_ds)[1])\n",
        "# results.append(result)"
      ]
    },
    {
      "cell_type": "markdown",
      "metadata": {
        "id": "YnuQkL1l6tKu"
      },
      "source": [
        "# TRAIN "
      ]
    },
    {
      "cell_type": "code",
      "execution_count": 14,
      "metadata": {
        "id": "xzX5vCGk7CXG"
      },
      "outputs": [],
      "source": [
        "from tsr.methods.augmentation import Cutmix, Mixup, Cutout\n",
        "\n",
        "\n",
        "def get_augs(SHAPE, BATCH_SIZE = 64, DO_PROB = 0.5, element_prob = 0.5, version = 0):\n",
        "    if version == 0:\n",
        "        DO_PROB = 0.7\n",
        "        element_prob = 0.3\n",
        "\n",
        "    elif version == 1:\n",
        "        DO_PROB = 0.8\n",
        "        element_prob = 0.5\n",
        "\n",
        "    elif version == 2:\n",
        "        DO_PROB = 0.8\n",
        "        element_prob = 0.1\n",
        "\n",
        "    mixup = Mixup(batch_size = BATCH_SIZE,\n",
        "                  do_prob = DO_PROB,\n",
        "                  sequence_shape = SHAPE[1:],\n",
        "                  linear_mix_min = 0.1,\n",
        "                  linear_mix_max = 0.5)\n",
        "\n",
        "    cutmix = Cutmix(batch_size = BATCH_SIZE,\n",
        "                    do_prob = DO_PROB,\n",
        "                    sequence_shape = SHAPE[1:],\n",
        "                    min_cutmix_len = SHAPE[1] // 2,\n",
        "                    max_cutmix_len = SHAPE[1],\n",
        "                    channel_replace_prob = element_prob,\n",
        "\n",
        "                    )\n",
        "    cutmix.batch = BATCH_SIZE\n",
        "    cutout = Cutout(\n",
        "        batch_size = BATCH_SIZE,\n",
        "        do_prob = DO_PROB,\n",
        "        sequence_shape = SHAPE[1:],\n",
        "        min_cutout_len = SHAPE[1] // 2,\n",
        "        max_cutout_len = SHAPE[1],\n",
        "        channel_drop_prob = element_prob,\n",
        "    )\n",
        "    cutout.batch = BATCH_SIZE\n",
        "\n",
        "    if version == 0:\n",
        "\n",
        "        def batch_aug(x, y):\n",
        "            example = {'input': x, 'target': y}\n",
        "            example = cutmix(example)\n",
        "            example = cutout(example)\n",
        "            example = mixup(example)\n",
        "            x, y = example['input'], example['target']\n",
        "            return x, y\n",
        "\n",
        "    elif version == -1:\n",
        "\n",
        "        def batch_aug(x, y):\n",
        "            return x, y\n",
        "\n",
        "    elif version == 1:\n",
        "\n",
        "        def batch_aug(x, y):\n",
        "            example = {'input': x, 'target': y}\n",
        "            example = cutmix(example)\n",
        "            example = cutout(example)\n",
        "            example = mixup(example)\n",
        "            x, y = example['input'], example['target']\n",
        "            return x, y\n",
        "\n",
        "    elif version == 2:\n",
        "\n",
        "        def batch_aug(x, y):\n",
        "            example = {'input': x, 'target': y}\n",
        "            example = cutmix(example)\n",
        "            example = cutmix(example)\n",
        "            example = cutout(example)\n",
        "            # example = cutout(example)\n",
        "            example = mixup(example)\n",
        "            x, y = example['input'], example['target']\n",
        "            return x, y\n",
        "\n",
        "    else:\n",
        "        raise KeyError('Augmentation Version Not Specified')\n",
        "\n",
        "    return batch_aug\n",
        "\n"
      ]
    },
    {
      "cell_type": "code",
      "execution_count": null,
      "metadata": {
        "colab": {
          "base_uri": "https://localhost:8080/",
          "height": 344,
          "referenced_widgets": [
            "fc8f23f1edba4942afcb656a783ca183",
            "878ed2933b294b36aa2d9f38be58b004",
            "ffb8fffafb7a4ef49eb7b480247f1779",
            "40ba0769bb134e86ac98031a09790889",
            "e5f9cf5e70ec4e7e87a35ba03631ef61",
            "e20973b6efd244d79072488ef6280d54",
            "fb9fe9830772436f8c70d9d5673e242e",
            "4004bcb920c34702a8c3aa353f77392d",
            "de0d794ba308465f96c3bf96a172a670",
            "8f6514b8fbf94a0c82d15f7fc669fdda",
            "52d8cb4d808d4c01a9d70a6f5441abf8",
            "7f15873ec00449b09e42ec2fc4a3d61e",
            "ab48c7e7f7d5408aa7120c1e9db747d7",
            "71231551aed44ace84c459d6b70acb16",
            "59e445305dde48609807da427eeb6348",
            "39640f6b4fbc468fa403a3a0429e153c",
            "af8a545319ef4d939254bc8de78d1ef6",
            "2727b33dd82c48c984484ad5c048a297",
            "992d0e00319349faa34f407cd368ff57",
            "52b974712f874679bafafa53a2bc3a3d",
            "36e6e3d8d2f74f408ccce36d03a4a464",
            "ef9cb5896992428eacefdb8d7157a8b0",
            "b31d16ace7204ea485d95f4a2b9cdbe3",
            "37113d39d42841a8a7fa863d4726677b",
            "a3fe92b0f47e474cb7ab128fff639933",
            "cc4941c95d484f40b1800dc1739e2708",
            "78ddda1377d842f78673fd0f6c84d3a1",
            "627fa799525c43388fa23e44e9c573e1",
            "e8bc0775631a4355a87a2f540f183cd5",
            "038a6a047c8243d4a6f46a059abbea63",
            "441c107b3e394bf5bffb0fa288b7747c",
            "9ebe9537405b48f487f45694f23d74a0",
            "5940034ec1134de981207f190bdd2999",
            "fe727ea8c5d84f59aa0e62a11f2b1300",
            "9d8da158903042b5a317b45447419b90",
            "074f08a19503474886fc84b90371ad27",
            "aa50ba3302a84855899efd744f160ced",
            "2bbc7e5792484ee0a086749ee455b251",
            "2966bbd1106e47f198153501734cdeb4",
            "553e6e24e95b45aaa991d784a9fb4bee",
            "28ef02fe387c41c7a344b9424bfd616d",
            "1d491b82953a4206a29758cbc1835c8d",
            "8c898a5eac624e4ca482a66e62997084",
            "845f542570d04e809f87a968fd1c09e3",
            "b33df622229d4b3b85e2b095217983bd",
            "f1913618f1994fcf9e1685dfef6efdb4",
            "e9464ef7fbf24065a70b0b10257b2c9a",
            "f22fd6b0ba4d4c39a8f002158342003d",
            "97059559af1e41b383335fb5c7284a74",
            "e252c57c081247f79c3d525de93b87ab",
            "6f34db2cd6da40a68a3814f914aef470",
            "d2f5d6c03e11476a9f6f549d1b7072e6",
            "a58d3bc46bfb44b1adf84494c1950f12",
            "8374b26e16f348c3989fae6c909fa024",
            "0f3739d8bf134f669d7876886a45566a"
          ]
        },
        "id": "FauqIH-aIRUY",
        "outputId": "cc80c382-4cc1-4525-e335-a9cc50603177"
      },
      "outputs": [
        {
          "data": {
            "application/vnd.jupyter.widget-view+json": {
              "model_id": "fc8f23f1edba4942afcb656a783ca183",
              "version_major": 2,
              "version_minor": 0
            },
            "text/plain": [
              "  0%|          | 0/10 [00:00<?, ?it/s]"
            ]
          },
          "metadata": {},
          "output_type": "display_data"
        },
        {
          "data": {
            "application/vnd.jupyter.widget-view+json": {
              "model_id": "7f15873ec00449b09e42ec2fc4a3d61e",
              "version_major": 2,
              "version_minor": 0
            },
            "text/plain": [
              "  0%|          | 0/26 [00:00<?, ?it/s]"
            ]
          },
          "metadata": {},
          "output_type": "display_data"
        },
        {
          "data": {
            "application/vnd.jupyter.widget-view+json": {
              "model_id": "b31d16ace7204ea485d95f4a2b9cdbe3",
              "version_major": 2,
              "version_minor": 0
            },
            "text/plain": [
              "  0%|          | 0/26 [00:00<?, ?it/s]"
            ]
          },
          "metadata": {},
          "output_type": "display_data"
        },
        {
          "metadata": {
            "tags": null
          },
          "name": "stderr",
          "output_type": "stream",
          "text": [
            "/usr/local/lib/python3.7/dist-packages/sktime/utils/data_io.py:722: PerformanceWarning: DataFrame is highly fragmented.  This is usually the result of calling `frame.insert` many times, which has poor performance.  Consider joining all columns at once using pd.concat(axis=1) instead.  To get a de-fragmented frame, use `newframe = frame.copy()`\n",
            "  data[\"dim_\" + str(dim)] = instance_list[dim]\n"
          ]
        },
        {
          "metadata": {
            "tags": null
          },
          "name": "stdout",
          "output_type": "stream",
          "text": [
            "WARNING:tensorflow:From /usr/local/lib/python3.7/dist-packages/tensorflow/python/util/deprecation.py:617: calling map_fn_v2 (from tensorflow.python.ops.map_fn) with dtype is deprecated and will be removed in a future version.\n",
            "Instructions for updating:\n",
            "Use fn_output_signature instead\n"
          ]
        },
        {
          "metadata": {
            "tags": null
          },
          "name": "stderr",
          "output_type": "stream",
          "text": [
            "WARNING:tensorflow:From /usr/local/lib/python3.7/dist-packages/tensorflow/python/util/deprecation.py:617: calling map_fn_v2 (from tensorflow.python.ops.map_fn) with dtype is deprecated and will be removed in a future version.\n",
            "Instructions for updating:\n",
            "Use fn_output_signature instead\n"
          ]
        },
        {
          "data": {
            "application/vnd.jupyter.widget-view+json": {
              "model_id": "fe727ea8c5d84f59aa0e62a11f2b1300",
              "version_major": 2,
              "version_minor": 0
            },
            "text/plain": [
              "  0%|          | 0/26 [00:00<?, ?it/s]"
            ]
          },
          "metadata": {},
          "output_type": "display_data"
        },
        {
          "data": {
            "application/vnd.jupyter.widget-view+json": {
              "model_id": "b33df622229d4b3b85e2b095217983bd",
              "version_major": 2,
              "version_minor": 0
            },
            "text/plain": [
              "  0%|          | 0/26 [00:00<?, ?it/s]"
            ]
          },
          "metadata": {},
          "output_type": "display_data"
        }
      ],
      "source": [
        "from tsr.models.inceptiontime import Classifier_INCEPTION\n",
        "from tsr.methods.augmentation import get_augs \n",
        "import os \n",
        "from tqdm.notebook import tqdm\n",
        "from tsr.models.attention.simplemhsa import SimpleMHSA\n",
        "\n",
        "\n",
        "DO_PROB = 0.7\n",
        "element_prob = 0.3 \n",
        "aug_version = 1\n",
        "save_path = '/content/drive/Shareddrives/KAGGLE/TSR/AUGMENTATION PAPER 2022/RESULTS'\n",
        "model_name = 'SimpleMHSA'\n",
        "repeats = 10\n",
        "start = 0\n",
        "\n",
        "\n",
        "for seed in tqdm(range(start, repeats)):\n",
        "\n",
        "    for i in tqdm(np.array(range(len(list(dsm.directories.keys()))))[0:]):\n",
        "\n",
        "        dataset_name = list(dsm.directories.keys())[i]\n",
        "        save_to_file = os.path.join(save_path, '_'.join([dataset_name, model_name, 'SEED%02.f' % seed, 'AUG%02.f' % aug_version, '.csv']))\n",
        "        \n",
        "        if not os.path.exists(save_to_file): \n",
        "            ds, test_ds, shape, num_classes = dsm.get_datasets_as_tf(list(dsm.directories.keys())[i], resample_seed = seed)\n",
        "\n",
        "            if shape[1] < 513:\n",
        "\n",
        "                with strategy.scope():\n",
        "\n",
        "                    model = SimpleMHSA(input_shape=shape[1:], num_class=num_classes)\n",
        "\n",
        "                    model.compile(optimizer = tf.keras.optimizers.Adam(learning_rate=1e-4),\n",
        "                                metrics = [\n",
        "                                            tf.keras.metrics.SparseCategoricalAccuracy()\n",
        "                                ], \n",
        "                                loss = tf.keras.losses.SparseCategoricalCrossentropy(from_logits=False))\n",
        "                    \n",
        "                    reduce_lr = tf.keras.callbacks.ReduceLROnPlateau(monitor='loss', factor=0.5, patience=10,\n",
        "                                                                min_lr=0.0001)\n",
        "                    \n",
        "\n",
        "                    early_stop = tf.keras.callbacks.EarlyStopping(\n",
        "                        monitor='val_loss', min_delta=0, patience=100, verbose=0,\n",
        "                        mode='auto', baseline=None, restore_best_weights=True\n",
        "                    )\n",
        "\n",
        "                    history = model.fit(\n",
        "                        ds.map(get_augs(SHAPE = shape , BATCH_SIZE = 64, DO_PROB=DO_PROB, element_prob = element_prob, version = aug_version)), \n",
        "                        # ds,\n",
        "                        # steps_per_epoch = max(int(shape[0]/64 +1), 20), \n",
        "                        steps_per_epoch = max(int(shape[0]/64 +1), 100), \n",
        "                        epochs = 1500, \n",
        "                        # epochs = 10,\n",
        "                        validation_data = test_ds,\n",
        "                        callbacks = [\n",
        "                                    reduce_lr, early_stop\n",
        "                        ],\n",
        "                        verbose = False, \n",
        "                        # verbose=  True, \n",
        "                    )\n",
        "\n",
        "\n",
        "                results = pd.DataFrame(history.history)\n",
        "\n",
        "                dataset_name = list(dsm.directories.keys())[i]\n",
        "\n",
        "                results['dataset_name'] = dataset_name\n",
        "                results['model'] = model_name\n",
        "                results['epoch'] = results.index\n",
        "                results['do_prob'] = DO_PROB\n",
        "                results['element_prob'] = element_prob\n",
        "                results['aug_version'] = aug_version \n",
        "                results['seed'] = seed \n",
        "                results.to_csv(save_to_file) \n"
      ]
    },
    {
      "cell_type": "code",
      "execution_count": null,
      "metadata": {
        "id": "q-D8-mm9odbX"
      },
      "outputs": [],
      "source": [
        "i = 0\n",
        "for example in ds:\n",
        "    i += 1 \n",
        "    if i > 17:\n",
        "        break\n",
        "\n",
        "example\n",
        "\n"
      ]
    },
    {
      "cell_type": "code",
      "execution_count": null,
      "metadata": {
        "id": "KGlf6RJGgGRv"
      },
      "outputs": [],
      "source": [
        ""
      ]
    },
    {
      "cell_type": "code",
      "execution_count": null,
      "metadata": {
        "id": "8ngKEDnQgH6j"
      },
      "outputs": [],
      "source": [
        ""
      ]
    },
    {
      "cell_type": "code",
      "execution_count": null,
      "metadata": {
        "id": "8DNgneGSgeTm"
      },
      "outputs": [],
      "source": [
        ""
      ]
    },
    {
      "cell_type": "code",
      "execution_count": null,
      "metadata": {
        "id": "oiaw4Eb4hHy3"
      },
      "outputs": [],
      "source": [
        "def resample_train_test(x, y, x_test, y_test, seed=0):\n",
        "        \n",
        "    if not seed == 0: \n",
        "            \n",
        "        combined_y = np.concatenate([y_test, y])\n",
        "        combined_x = np.concatenate([x_test, x])\n",
        "\n",
        "        np.random.seed(seed = seed)\n",
        "        train_indices = []\n",
        "        test_indices = []\n",
        "\n",
        "        for cls in range(np.max(combined_y)+1):\n",
        "            np.max(combined_y)\n",
        "\n",
        "            arr = np.argwhere(combined_y == cls)\n",
        "\n",
        "\n",
        "            np.random.shuffle(arr)\n",
        "\n",
        "            train_index = arr[:len(np.argwhere(y == cls))]\n",
        "            test_index = arr[len(np.argwhere(y == cls)):]\n",
        "            train_indices.append(train_index)\n",
        "            test_indices.append(test_index)\n",
        "\n",
        "        train_indices = np.squeeze(np.concatenate(train_indices))\n",
        "        test_indices = np.concatenate(test_indices)\n",
        "\n",
        "\n",
        "        x = combined_x[train_indices]\n",
        "        y = combined_y[train_indices]\n",
        "        x_test = combined_x[test_indices]\n",
        "        y_test = combined_x[test_indices]\n",
        "        print(train_indices.shape)\n",
        "\n",
        "    return x, y, x_test, y_test     \n",
        "\n",
        "i = 0\n",
        "print(i, list(dsm.directories.keys())[i])\n",
        "x, y = dsm.get_dataset_as_array(list(dsm.directories.keys())[i], split = 'TRAIN')\n",
        "x_test, y_test = dsm.get_dataset_as_array(list(dsm.directories.keys())[i], split = 'TEST')\n",
        "\n",
        "x.shape, x_test.shape\n",
        "\n",
        "x, y, x_test, y_test = resample_train_test(x, y, x_test, y_test, seed=1)\n",
        "x.shape\n"
      ]
    },
    {
      "cell_type": "code",
      "execution_count": null,
      "metadata": {
        "id": "icYhJvFzjPSn"
      },
      "outputs": [],
      "source": [
        "\n",
        "\n"
      ]
    },
    {
      "cell_type": "code",
      "execution_count": null,
      "metadata": {
        "id": "Mb0-htrLd2Fd"
      },
      "outputs": [],
      "source": [
        "\n",
        "results = pd.DataFrame(history.history)\n",
        "\n",
        "dataset_name = list(dsm.directories.keys())[i]\n",
        "\n",
        "results['dataset_name'] = dataset_name\n",
        "results['epoch'] = results.index\n",
        "results\n"
      ]
    },
    {
      "cell_type": "code",
      "execution_count": null,
      "metadata": {
        "id": "SXr7B631dl71"
      },
      "outputs": [],
      "source": [
        ""
      ]
    },
    {
      "cell_type": "code",
      "execution_count": null,
      "metadata": {
        "id": "C2Tb33FqaGm-"
      },
      "outputs": [],
      "source": [
        "\n",
        "\n"
      ]
    },
    {
      "cell_type": "code",
      "execution_count": null,
      "metadata": {
        "id": "8CuNUAvfnW7J"
      },
      "outputs": [],
      "source": [
        "np.max(history.history['val_sparse_categorical_accuracy'])"
      ]
    },
    {
      "cell_type": "code",
      "execution_count": null,
      "metadata": {
        "id": "c9kD4To7mNBB"
      },
      "outputs": [],
      "source": [
        ""
      ]
    },
    {
      "cell_type": "code",
      "execution_count": null,
      "metadata": {
        "id": "VZure5cd9XL1"
      },
      "outputs": [],
      "source": [
        ""
      ]
    },
    {
      "cell_type": "code",
      "execution_count": null,
      "metadata": {
        "id": "mitFw7BWkPAa"
      },
      "outputs": [],
      "source": [
        ""
      ]
    },
    {
      "cell_type": "code",
      "execution_count": null,
      "metadata": {
        "id": "0SZF12ZvlKvx"
      },
      "outputs": [],
      "source": [
        ""
      ]
    },
    {
      "cell_type": "code",
      "execution_count": null,
      "metadata": {
        "id": "T3pHI7y_jvSX"
      },
      "outputs": [],
      "source": [
        "\n"
      ]
    }
  ],
  "metadata": {
    "accelerator": "TPU",
    "colab": {
      "collapsed_sections": [
        "d3-7WS1S1ggR",
        "Ad3JoLB41h1K"
      ],
      "name": "TIMEREG MHSA AUG1.ipynb",
      "provenance": [],
      "mount_file_id": "1B8XRImZolDHsEQNy6wpF2uY8ZUyrJS3d",
      "authorship_tag": "ABX9TyP9j5iQfeIS6o706/cJFBA2",
      "include_colab_link": true
    },
    "kernelspec": {
      "display_name": "Python 3",
      "name": "python3"
    },
    "language_info": {
      "name": "python"
    },
    "widgets": {
      "application/vnd.jupyter.widget-state+json": {
        "fc8f23f1edba4942afcb656a783ca183": {
          "model_module": "@jupyter-widgets/controls",
          "model_name": "HBoxModel",
          "model_module_version": "1.5.0",
          "state": {
            "_view_name": "HBoxView",
            "_dom_classes": [],
            "_model_name": "HBoxModel",
            "_view_module": "@jupyter-widgets/controls",
            "_model_module_version": "1.5.0",
            "_view_count": null,
            "_view_module_version": "1.5.0",
            "box_style": "",
            "layout": "IPY_MODEL_878ed2933b294b36aa2d9f38be58b004",
            "_model_module": "@jupyter-widgets/controls",
            "children": [
              "IPY_MODEL_ffb8fffafb7a4ef49eb7b480247f1779",
              "IPY_MODEL_40ba0769bb134e86ac98031a09790889",
              "IPY_MODEL_e5f9cf5e70ec4e7e87a35ba03631ef61"
            ]
          }
        },
        "878ed2933b294b36aa2d9f38be58b004": {
          "model_module": "@jupyter-widgets/base",
          "model_name": "LayoutModel",
          "model_module_version": "1.2.0",
          "state": {
            "_view_name": "LayoutView",
            "grid_template_rows": null,
            "right": null,
            "justify_content": null,
            "_view_module": "@jupyter-widgets/base",
            "overflow": null,
            "_model_module_version": "1.2.0",
            "_view_count": null,
            "flex_flow": null,
            "width": null,
            "min_width": null,
            "border": null,
            "align_items": null,
            "bottom": null,
            "_model_module": "@jupyter-widgets/base",
            "top": null,
            "grid_column": null,
            "overflow_y": null,
            "overflow_x": null,
            "grid_auto_flow": null,
            "grid_area": null,
            "grid_template_columns": null,
            "flex": null,
            "_model_name": "LayoutModel",
            "justify_items": null,
            "grid_row": null,
            "max_height": null,
            "align_content": null,
            "visibility": null,
            "align_self": null,
            "height": null,
            "min_height": null,
            "padding": null,
            "grid_auto_rows": null,
            "grid_gap": null,
            "max_width": null,
            "order": null,
            "_view_module_version": "1.2.0",
            "grid_template_areas": null,
            "object_position": null,
            "object_fit": null,
            "grid_auto_columns": null,
            "margin": null,
            "display": null,
            "left": null
          }
        },
        "ffb8fffafb7a4ef49eb7b480247f1779": {
          "model_module": "@jupyter-widgets/controls",
          "model_name": "HTMLModel",
          "model_module_version": "1.5.0",
          "state": {
            "_view_name": "HTMLView",
            "style": "IPY_MODEL_e20973b6efd244d79072488ef6280d54",
            "_dom_classes": [],
            "description": "",
            "_model_name": "HTMLModel",
            "placeholder": "​",
            "_view_module": "@jupyter-widgets/controls",
            "_model_module_version": "1.5.0",
            "value": " 30%",
            "_view_count": null,
            "_view_module_version": "1.5.0",
            "description_tooltip": null,
            "_model_module": "@jupyter-widgets/controls",
            "layout": "IPY_MODEL_fb9fe9830772436f8c70d9d5673e242e"
          }
        },
        "40ba0769bb134e86ac98031a09790889": {
          "model_module": "@jupyter-widgets/controls",
          "model_name": "FloatProgressModel",
          "model_module_version": "1.5.0",
          "state": {
            "_view_name": "ProgressView",
            "style": "IPY_MODEL_4004bcb920c34702a8c3aa353f77392d",
            "_dom_classes": [],
            "description": "",
            "_model_name": "FloatProgressModel",
            "bar_style": "",
            "max": 10,
            "_view_module": "@jupyter-widgets/controls",
            "_model_module_version": "1.5.0",
            "value": 3,
            "_view_count": null,
            "_view_module_version": "1.5.0",
            "orientation": "horizontal",
            "min": 0,
            "description_tooltip": null,
            "_model_module": "@jupyter-widgets/controls",
            "layout": "IPY_MODEL_de0d794ba308465f96c3bf96a172a670"
          }
        },
        "e5f9cf5e70ec4e7e87a35ba03631ef61": {
          "model_module": "@jupyter-widgets/controls",
          "model_name": "HTMLModel",
          "model_module_version": "1.5.0",
          "state": {
            "_view_name": "HTMLView",
            "style": "IPY_MODEL_8f6514b8fbf94a0c82d15f7fc669fdda",
            "_dom_classes": [],
            "description": "",
            "_model_name": "HTMLModel",
            "placeholder": "​",
            "_view_module": "@jupyter-widgets/controls",
            "_model_module_version": "1.5.0",
            "value": " 3/10 [15:42:58&lt;42:29:31, 21853.06s/it]",
            "_view_count": null,
            "_view_module_version": "1.5.0",
            "description_tooltip": null,
            "_model_module": "@jupyter-widgets/controls",
            "layout": "IPY_MODEL_52d8cb4d808d4c01a9d70a6f5441abf8"
          }
        },
        "e20973b6efd244d79072488ef6280d54": {
          "model_module": "@jupyter-widgets/controls",
          "model_name": "DescriptionStyleModel",
          "model_module_version": "1.5.0",
          "state": {
            "_view_name": "StyleView",
            "_model_name": "DescriptionStyleModel",
            "description_width": "",
            "_view_module": "@jupyter-widgets/base",
            "_model_module_version": "1.5.0",
            "_view_count": null,
            "_view_module_version": "1.2.0",
            "_model_module": "@jupyter-widgets/controls"
          }
        },
        "fb9fe9830772436f8c70d9d5673e242e": {
          "model_module": "@jupyter-widgets/base",
          "model_name": "LayoutModel",
          "model_module_version": "1.2.0",
          "state": {
            "_view_name": "LayoutView",
            "grid_template_rows": null,
            "right": null,
            "justify_content": null,
            "_view_module": "@jupyter-widgets/base",
            "overflow": null,
            "_model_module_version": "1.2.0",
            "_view_count": null,
            "flex_flow": null,
            "width": null,
            "min_width": null,
            "border": null,
            "align_items": null,
            "bottom": null,
            "_model_module": "@jupyter-widgets/base",
            "top": null,
            "grid_column": null,
            "overflow_y": null,
            "overflow_x": null,
            "grid_auto_flow": null,
            "grid_area": null,
            "grid_template_columns": null,
            "flex": null,
            "_model_name": "LayoutModel",
            "justify_items": null,
            "grid_row": null,
            "max_height": null,
            "align_content": null,
            "visibility": null,
            "align_self": null,
            "height": null,
            "min_height": null,
            "padding": null,
            "grid_auto_rows": null,
            "grid_gap": null,
            "max_width": null,
            "order": null,
            "_view_module_version": "1.2.0",
            "grid_template_areas": null,
            "object_position": null,
            "object_fit": null,
            "grid_auto_columns": null,
            "margin": null,
            "display": null,
            "left": null
          }
        },
        "4004bcb920c34702a8c3aa353f77392d": {
          "model_module": "@jupyter-widgets/controls",
          "model_name": "ProgressStyleModel",
          "model_module_version": "1.5.0",
          "state": {
            "_view_name": "StyleView",
            "_model_name": "ProgressStyleModel",
            "description_width": "",
            "_view_module": "@jupyter-widgets/base",
            "_model_module_version": "1.5.0",
            "_view_count": null,
            "_view_module_version": "1.2.0",
            "bar_color": null,
            "_model_module": "@jupyter-widgets/controls"
          }
        },
        "de0d794ba308465f96c3bf96a172a670": {
          "model_module": "@jupyter-widgets/base",
          "model_name": "LayoutModel",
          "model_module_version": "1.2.0",
          "state": {
            "_view_name": "LayoutView",
            "grid_template_rows": null,
            "right": null,
            "justify_content": null,
            "_view_module": "@jupyter-widgets/base",
            "overflow": null,
            "_model_module_version": "1.2.0",
            "_view_count": null,
            "flex_flow": null,
            "width": null,
            "min_width": null,
            "border": null,
            "align_items": null,
            "bottom": null,
            "_model_module": "@jupyter-widgets/base",
            "top": null,
            "grid_column": null,
            "overflow_y": null,
            "overflow_x": null,
            "grid_auto_flow": null,
            "grid_area": null,
            "grid_template_columns": null,
            "flex": null,
            "_model_name": "LayoutModel",
            "justify_items": null,
            "grid_row": null,
            "max_height": null,
            "align_content": null,
            "visibility": null,
            "align_self": null,
            "height": null,
            "min_height": null,
            "padding": null,
            "grid_auto_rows": null,
            "grid_gap": null,
            "max_width": null,
            "order": null,
            "_view_module_version": "1.2.0",
            "grid_template_areas": null,
            "object_position": null,
            "object_fit": null,
            "grid_auto_columns": null,
            "margin": null,
            "display": null,
            "left": null
          }
        },
        "8f6514b8fbf94a0c82d15f7fc669fdda": {
          "model_module": "@jupyter-widgets/controls",
          "model_name": "DescriptionStyleModel",
          "model_module_version": "1.5.0",
          "state": {
            "_view_name": "StyleView",
            "_model_name": "DescriptionStyleModel",
            "description_width": "",
            "_view_module": "@jupyter-widgets/base",
            "_model_module_version": "1.5.0",
            "_view_count": null,
            "_view_module_version": "1.2.0",
            "_model_module": "@jupyter-widgets/controls"
          }
        },
        "52d8cb4d808d4c01a9d70a6f5441abf8": {
          "model_module": "@jupyter-widgets/base",
          "model_name": "LayoutModel",
          "model_module_version": "1.2.0",
          "state": {
            "_view_name": "LayoutView",
            "grid_template_rows": null,
            "right": null,
            "justify_content": null,
            "_view_module": "@jupyter-widgets/base",
            "overflow": null,
            "_model_module_version": "1.2.0",
            "_view_count": null,
            "flex_flow": null,
            "width": null,
            "min_width": null,
            "border": null,
            "align_items": null,
            "bottom": null,
            "_model_module": "@jupyter-widgets/base",
            "top": null,
            "grid_column": null,
            "overflow_y": null,
            "overflow_x": null,
            "grid_auto_flow": null,
            "grid_area": null,
            "grid_template_columns": null,
            "flex": null,
            "_model_name": "LayoutModel",
            "justify_items": null,
            "grid_row": null,
            "max_height": null,
            "align_content": null,
            "visibility": null,
            "align_self": null,
            "height": null,
            "min_height": null,
            "padding": null,
            "grid_auto_rows": null,
            "grid_gap": null,
            "max_width": null,
            "order": null,
            "_view_module_version": "1.2.0",
            "grid_template_areas": null,
            "object_position": null,
            "object_fit": null,
            "grid_auto_columns": null,
            "margin": null,
            "display": null,
            "left": null
          }
        },
        "7f15873ec00449b09e42ec2fc4a3d61e": {
          "model_module": "@jupyter-widgets/controls",
          "model_name": "HBoxModel",
          "model_module_version": "1.5.0",
          "state": {
            "_view_name": "HBoxView",
            "_dom_classes": [],
            "_model_name": "HBoxModel",
            "_view_module": "@jupyter-widgets/controls",
            "_model_module_version": "1.5.0",
            "_view_count": null,
            "_view_module_version": "1.5.0",
            "box_style": "",
            "layout": "IPY_MODEL_ab48c7e7f7d5408aa7120c1e9db747d7",
            "_model_module": "@jupyter-widgets/controls",
            "children": [
              "IPY_MODEL_71231551aed44ace84c459d6b70acb16",
              "IPY_MODEL_59e445305dde48609807da427eeb6348",
              "IPY_MODEL_39640f6b4fbc468fa403a3a0429e153c"
            ]
          }
        },
        "ab48c7e7f7d5408aa7120c1e9db747d7": {
          "model_module": "@jupyter-widgets/base",
          "model_name": "LayoutModel",
          "model_module_version": "1.2.0",
          "state": {
            "_view_name": "LayoutView",
            "grid_template_rows": null,
            "right": null,
            "justify_content": null,
            "_view_module": "@jupyter-widgets/base",
            "overflow": null,
            "_model_module_version": "1.2.0",
            "_view_count": null,
            "flex_flow": null,
            "width": null,
            "min_width": null,
            "border": null,
            "align_items": null,
            "bottom": null,
            "_model_module": "@jupyter-widgets/base",
            "top": null,
            "grid_column": null,
            "overflow_y": null,
            "overflow_x": null,
            "grid_auto_flow": null,
            "grid_area": null,
            "grid_template_columns": null,
            "flex": null,
            "_model_name": "LayoutModel",
            "justify_items": null,
            "grid_row": null,
            "max_height": null,
            "align_content": null,
            "visibility": null,
            "align_self": null,
            "height": null,
            "min_height": null,
            "padding": null,
            "grid_auto_rows": null,
            "grid_gap": null,
            "max_width": null,
            "order": null,
            "_view_module_version": "1.2.0",
            "grid_template_areas": null,
            "object_position": null,
            "object_fit": null,
            "grid_auto_columns": null,
            "margin": null,
            "display": null,
            "left": null
          }
        },
        "71231551aed44ace84c459d6b70acb16": {
          "model_module": "@jupyter-widgets/controls",
          "model_name": "HTMLModel",
          "model_module_version": "1.5.0",
          "state": {
            "_view_name": "HTMLView",
            "style": "IPY_MODEL_af8a545319ef4d939254bc8de78d1ef6",
            "_dom_classes": [],
            "description": "",
            "_model_name": "HTMLModel",
            "placeholder": "​",
            "_view_module": "@jupyter-widgets/controls",
            "_model_module_version": "1.5.0",
            "value": "100%",
            "_view_count": null,
            "_view_module_version": "1.5.0",
            "description_tooltip": null,
            "_model_module": "@jupyter-widgets/controls",
            "layout": "IPY_MODEL_2727b33dd82c48c984484ad5c048a297"
          }
        },
        "59e445305dde48609807da427eeb6348": {
          "model_module": "@jupyter-widgets/controls",
          "model_name": "FloatProgressModel",
          "model_module_version": "1.5.0",
          "state": {
            "_view_name": "ProgressView",
            "style": "IPY_MODEL_992d0e00319349faa34f407cd368ff57",
            "_dom_classes": [],
            "description": "",
            "_model_name": "FloatProgressModel",
            "bar_style": "success",
            "max": 26,
            "_view_module": "@jupyter-widgets/controls",
            "_model_module_version": "1.5.0",
            "value": 26,
            "_view_count": null,
            "_view_module_version": "1.5.0",
            "orientation": "horizontal",
            "min": 0,
            "description_tooltip": null,
            "_model_module": "@jupyter-widgets/controls",
            "layout": "IPY_MODEL_52b974712f874679bafafa53a2bc3a3d"
          }
        },
        "39640f6b4fbc468fa403a3a0429e153c": {
          "model_module": "@jupyter-widgets/controls",
          "model_name": "HTMLModel",
          "model_module_version": "1.5.0",
          "state": {
            "_view_name": "HTMLView",
            "style": "IPY_MODEL_36e6e3d8d2f74f408ccce36d03a4a464",
            "_dom_classes": [],
            "description": "",
            "_model_name": "HTMLModel",
            "placeholder": "​",
            "_view_module": "@jupyter-widgets/controls",
            "_model_module_version": "1.5.0",
            "value": " 26/26 [01:07&lt;00:00,  2.41s/it]",
            "_view_count": null,
            "_view_module_version": "1.5.0",
            "description_tooltip": null,
            "_model_module": "@jupyter-widgets/controls",
            "layout": "IPY_MODEL_ef9cb5896992428eacefdb8d7157a8b0"
          }
        },
        "af8a545319ef4d939254bc8de78d1ef6": {
          "model_module": "@jupyter-widgets/controls",
          "model_name": "DescriptionStyleModel",
          "model_module_version": "1.5.0",
          "state": {
            "_view_name": "StyleView",
            "_model_name": "DescriptionStyleModel",
            "description_width": "",
            "_view_module": "@jupyter-widgets/base",
            "_model_module_version": "1.5.0",
            "_view_count": null,
            "_view_module_version": "1.2.0",
            "_model_module": "@jupyter-widgets/controls"
          }
        },
        "2727b33dd82c48c984484ad5c048a297": {
          "model_module": "@jupyter-widgets/base",
          "model_name": "LayoutModel",
          "model_module_version": "1.2.0",
          "state": {
            "_view_name": "LayoutView",
            "grid_template_rows": null,
            "right": null,
            "justify_content": null,
            "_view_module": "@jupyter-widgets/base",
            "overflow": null,
            "_model_module_version": "1.2.0",
            "_view_count": null,
            "flex_flow": null,
            "width": null,
            "min_width": null,
            "border": null,
            "align_items": null,
            "bottom": null,
            "_model_module": "@jupyter-widgets/base",
            "top": null,
            "grid_column": null,
            "overflow_y": null,
            "overflow_x": null,
            "grid_auto_flow": null,
            "grid_area": null,
            "grid_template_columns": null,
            "flex": null,
            "_model_name": "LayoutModel",
            "justify_items": null,
            "grid_row": null,
            "max_height": null,
            "align_content": null,
            "visibility": null,
            "align_self": null,
            "height": null,
            "min_height": null,
            "padding": null,
            "grid_auto_rows": null,
            "grid_gap": null,
            "max_width": null,
            "order": null,
            "_view_module_version": "1.2.0",
            "grid_template_areas": null,
            "object_position": null,
            "object_fit": null,
            "grid_auto_columns": null,
            "margin": null,
            "display": null,
            "left": null
          }
        },
        "992d0e00319349faa34f407cd368ff57": {
          "model_module": "@jupyter-widgets/controls",
          "model_name": "ProgressStyleModel",
          "model_module_version": "1.5.0",
          "state": {
            "_view_name": "StyleView",
            "_model_name": "ProgressStyleModel",
            "description_width": "",
            "_view_module": "@jupyter-widgets/base",
            "_model_module_version": "1.5.0",
            "_view_count": null,
            "_view_module_version": "1.2.0",
            "bar_color": null,
            "_model_module": "@jupyter-widgets/controls"
          }
        },
        "52b974712f874679bafafa53a2bc3a3d": {
          "model_module": "@jupyter-widgets/base",
          "model_name": "LayoutModel",
          "model_module_version": "1.2.0",
          "state": {
            "_view_name": "LayoutView",
            "grid_template_rows": null,
            "right": null,
            "justify_content": null,
            "_view_module": "@jupyter-widgets/base",
            "overflow": null,
            "_model_module_version": "1.2.0",
            "_view_count": null,
            "flex_flow": null,
            "width": null,
            "min_width": null,
            "border": null,
            "align_items": null,
            "bottom": null,
            "_model_module": "@jupyter-widgets/base",
            "top": null,
            "grid_column": null,
            "overflow_y": null,
            "overflow_x": null,
            "grid_auto_flow": null,
            "grid_area": null,
            "grid_template_columns": null,
            "flex": null,
            "_model_name": "LayoutModel",
            "justify_items": null,
            "grid_row": null,
            "max_height": null,
            "align_content": null,
            "visibility": null,
            "align_self": null,
            "height": null,
            "min_height": null,
            "padding": null,
            "grid_auto_rows": null,
            "grid_gap": null,
            "max_width": null,
            "order": null,
            "_view_module_version": "1.2.0",
            "grid_template_areas": null,
            "object_position": null,
            "object_fit": null,
            "grid_auto_columns": null,
            "margin": null,
            "display": null,
            "left": null
          }
        },
        "36e6e3d8d2f74f408ccce36d03a4a464": {
          "model_module": "@jupyter-widgets/controls",
          "model_name": "DescriptionStyleModel",
          "model_module_version": "1.5.0",
          "state": {
            "_view_name": "StyleView",
            "_model_name": "DescriptionStyleModel",
            "description_width": "",
            "_view_module": "@jupyter-widgets/base",
            "_model_module_version": "1.5.0",
            "_view_count": null,
            "_view_module_version": "1.2.0",
            "_model_module": "@jupyter-widgets/controls"
          }
        },
        "ef9cb5896992428eacefdb8d7157a8b0": {
          "model_module": "@jupyter-widgets/base",
          "model_name": "LayoutModel",
          "model_module_version": "1.2.0",
          "state": {
            "_view_name": "LayoutView",
            "grid_template_rows": null,
            "right": null,
            "justify_content": null,
            "_view_module": "@jupyter-widgets/base",
            "overflow": null,
            "_model_module_version": "1.2.0",
            "_view_count": null,
            "flex_flow": null,
            "width": null,
            "min_width": null,
            "border": null,
            "align_items": null,
            "bottom": null,
            "_model_module": "@jupyter-widgets/base",
            "top": null,
            "grid_column": null,
            "overflow_y": null,
            "overflow_x": null,
            "grid_auto_flow": null,
            "grid_area": null,
            "grid_template_columns": null,
            "flex": null,
            "_model_name": "LayoutModel",
            "justify_items": null,
            "grid_row": null,
            "max_height": null,
            "align_content": null,
            "visibility": null,
            "align_self": null,
            "height": null,
            "min_height": null,
            "padding": null,
            "grid_auto_rows": null,
            "grid_gap": null,
            "max_width": null,
            "order": null,
            "_view_module_version": "1.2.0",
            "grid_template_areas": null,
            "object_position": null,
            "object_fit": null,
            "grid_auto_columns": null,
            "margin": null,
            "display": null,
            "left": null
          }
        },
        "b31d16ace7204ea485d95f4a2b9cdbe3": {
          "model_module": "@jupyter-widgets/controls",
          "model_name": "HBoxModel",
          "model_module_version": "1.5.0",
          "state": {
            "_view_name": "HBoxView",
            "_dom_classes": [],
            "_model_name": "HBoxModel",
            "_view_module": "@jupyter-widgets/controls",
            "_model_module_version": "1.5.0",
            "_view_count": null,
            "_view_module_version": "1.5.0",
            "box_style": "",
            "layout": "IPY_MODEL_37113d39d42841a8a7fa863d4726677b",
            "_model_module": "@jupyter-widgets/controls",
            "children": [
              "IPY_MODEL_a3fe92b0f47e474cb7ab128fff639933",
              "IPY_MODEL_cc4941c95d484f40b1800dc1739e2708",
              "IPY_MODEL_78ddda1377d842f78673fd0f6c84d3a1"
            ]
          }
        },
        "37113d39d42841a8a7fa863d4726677b": {
          "model_module": "@jupyter-widgets/base",
          "model_name": "LayoutModel",
          "model_module_version": "1.2.0",
          "state": {
            "_view_name": "LayoutView",
            "grid_template_rows": null,
            "right": null,
            "justify_content": null,
            "_view_module": "@jupyter-widgets/base",
            "overflow": null,
            "_model_module_version": "1.2.0",
            "_view_count": null,
            "flex_flow": null,
            "width": null,
            "min_width": null,
            "border": null,
            "align_items": null,
            "bottom": null,
            "_model_module": "@jupyter-widgets/base",
            "top": null,
            "grid_column": null,
            "overflow_y": null,
            "overflow_x": null,
            "grid_auto_flow": null,
            "grid_area": null,
            "grid_template_columns": null,
            "flex": null,
            "_model_name": "LayoutModel",
            "justify_items": null,
            "grid_row": null,
            "max_height": null,
            "align_content": null,
            "visibility": null,
            "align_self": null,
            "height": null,
            "min_height": null,
            "padding": null,
            "grid_auto_rows": null,
            "grid_gap": null,
            "max_width": null,
            "order": null,
            "_view_module_version": "1.2.0",
            "grid_template_areas": null,
            "object_position": null,
            "object_fit": null,
            "grid_auto_columns": null,
            "margin": null,
            "display": null,
            "left": null
          }
        },
        "a3fe92b0f47e474cb7ab128fff639933": {
          "model_module": "@jupyter-widgets/controls",
          "model_name": "HTMLModel",
          "model_module_version": "1.5.0",
          "state": {
            "_view_name": "HTMLView",
            "style": "IPY_MODEL_627fa799525c43388fa23e44e9c573e1",
            "_dom_classes": [],
            "description": "",
            "_model_name": "HTMLModel",
            "placeholder": "​",
            "_view_module": "@jupyter-widgets/controls",
            "_model_module_version": "1.5.0",
            "value": "100%",
            "_view_count": null,
            "_view_module_version": "1.5.0",
            "description_tooltip": null,
            "_model_module": "@jupyter-widgets/controls",
            "layout": "IPY_MODEL_e8bc0775631a4355a87a2f540f183cd5"
          }
        },
        "cc4941c95d484f40b1800dc1739e2708": {
          "model_module": "@jupyter-widgets/controls",
          "model_name": "FloatProgressModel",
          "model_module_version": "1.5.0",
          "state": {
            "_view_name": "ProgressView",
            "style": "IPY_MODEL_038a6a047c8243d4a6f46a059abbea63",
            "_dom_classes": [],
            "description": "",
            "_model_name": "FloatProgressModel",
            "bar_style": "success",
            "max": 26,
            "_view_module": "@jupyter-widgets/controls",
            "_model_module_version": "1.5.0",
            "value": 26,
            "_view_count": null,
            "_view_module_version": "1.5.0",
            "orientation": "horizontal",
            "min": 0,
            "description_tooltip": null,
            "_model_module": "@jupyter-widgets/controls",
            "layout": "IPY_MODEL_441c107b3e394bf5bffb0fa288b7747c"
          }
        },
        "78ddda1377d842f78673fd0f6c84d3a1": {
          "model_module": "@jupyter-widgets/controls",
          "model_name": "HTMLModel",
          "model_module_version": "1.5.0",
          "state": {
            "_view_name": "HTMLView",
            "style": "IPY_MODEL_9ebe9537405b48f487f45694f23d74a0",
            "_dom_classes": [],
            "description": "",
            "_model_name": "HTMLModel",
            "placeholder": "​",
            "_view_module": "@jupyter-widgets/controls",
            "_model_module_version": "1.5.0",
            "value": " 26/26 [8:02:33&lt;00:00, 912.74s/it]",
            "_view_count": null,
            "_view_module_version": "1.5.0",
            "description_tooltip": null,
            "_model_module": "@jupyter-widgets/controls",
            "layout": "IPY_MODEL_5940034ec1134de981207f190bdd2999"
          }
        },
        "627fa799525c43388fa23e44e9c573e1": {
          "model_module": "@jupyter-widgets/controls",
          "model_name": "DescriptionStyleModel",
          "model_module_version": "1.5.0",
          "state": {
            "_view_name": "StyleView",
            "_model_name": "DescriptionStyleModel",
            "description_width": "",
            "_view_module": "@jupyter-widgets/base",
            "_model_module_version": "1.5.0",
            "_view_count": null,
            "_view_module_version": "1.2.0",
            "_model_module": "@jupyter-widgets/controls"
          }
        },
        "e8bc0775631a4355a87a2f540f183cd5": {
          "model_module": "@jupyter-widgets/base",
          "model_name": "LayoutModel",
          "model_module_version": "1.2.0",
          "state": {
            "_view_name": "LayoutView",
            "grid_template_rows": null,
            "right": null,
            "justify_content": null,
            "_view_module": "@jupyter-widgets/base",
            "overflow": null,
            "_model_module_version": "1.2.0",
            "_view_count": null,
            "flex_flow": null,
            "width": null,
            "min_width": null,
            "border": null,
            "align_items": null,
            "bottom": null,
            "_model_module": "@jupyter-widgets/base",
            "top": null,
            "grid_column": null,
            "overflow_y": null,
            "overflow_x": null,
            "grid_auto_flow": null,
            "grid_area": null,
            "grid_template_columns": null,
            "flex": null,
            "_model_name": "LayoutModel",
            "justify_items": null,
            "grid_row": null,
            "max_height": null,
            "align_content": null,
            "visibility": null,
            "align_self": null,
            "height": null,
            "min_height": null,
            "padding": null,
            "grid_auto_rows": null,
            "grid_gap": null,
            "max_width": null,
            "order": null,
            "_view_module_version": "1.2.0",
            "grid_template_areas": null,
            "object_position": null,
            "object_fit": null,
            "grid_auto_columns": null,
            "margin": null,
            "display": null,
            "left": null
          }
        },
        "038a6a047c8243d4a6f46a059abbea63": {
          "model_module": "@jupyter-widgets/controls",
          "model_name": "ProgressStyleModel",
          "model_module_version": "1.5.0",
          "state": {
            "_view_name": "StyleView",
            "_model_name": "ProgressStyleModel",
            "description_width": "",
            "_view_module": "@jupyter-widgets/base",
            "_model_module_version": "1.5.0",
            "_view_count": null,
            "_view_module_version": "1.2.0",
            "bar_color": null,
            "_model_module": "@jupyter-widgets/controls"
          }
        },
        "441c107b3e394bf5bffb0fa288b7747c": {
          "model_module": "@jupyter-widgets/base",
          "model_name": "LayoutModel",
          "model_module_version": "1.2.0",
          "state": {
            "_view_name": "LayoutView",
            "grid_template_rows": null,
            "right": null,
            "justify_content": null,
            "_view_module": "@jupyter-widgets/base",
            "overflow": null,
            "_model_module_version": "1.2.0",
            "_view_count": null,
            "flex_flow": null,
            "width": null,
            "min_width": null,
            "border": null,
            "align_items": null,
            "bottom": null,
            "_model_module": "@jupyter-widgets/base",
            "top": null,
            "grid_column": null,
            "overflow_y": null,
            "overflow_x": null,
            "grid_auto_flow": null,
            "grid_area": null,
            "grid_template_columns": null,
            "flex": null,
            "_model_name": "LayoutModel",
            "justify_items": null,
            "grid_row": null,
            "max_height": null,
            "align_content": null,
            "visibility": null,
            "align_self": null,
            "height": null,
            "min_height": null,
            "padding": null,
            "grid_auto_rows": null,
            "grid_gap": null,
            "max_width": null,
            "order": null,
            "_view_module_version": "1.2.0",
            "grid_template_areas": null,
            "object_position": null,
            "object_fit": null,
            "grid_auto_columns": null,
            "margin": null,
            "display": null,
            "left": null
          }
        },
        "9ebe9537405b48f487f45694f23d74a0": {
          "model_module": "@jupyter-widgets/controls",
          "model_name": "DescriptionStyleModel",
          "model_module_version": "1.5.0",
          "state": {
            "_view_name": "StyleView",
            "_model_name": "DescriptionStyleModel",
            "description_width": "",
            "_view_module": "@jupyter-widgets/base",
            "_model_module_version": "1.5.0",
            "_view_count": null,
            "_view_module_version": "1.2.0",
            "_model_module": "@jupyter-widgets/controls"
          }
        },
        "5940034ec1134de981207f190bdd2999": {
          "model_module": "@jupyter-widgets/base",
          "model_name": "LayoutModel",
          "model_module_version": "1.2.0",
          "state": {
            "_view_name": "LayoutView",
            "grid_template_rows": null,
            "right": null,
            "justify_content": null,
            "_view_module": "@jupyter-widgets/base",
            "overflow": null,
            "_model_module_version": "1.2.0",
            "_view_count": null,
            "flex_flow": null,
            "width": null,
            "min_width": null,
            "border": null,
            "align_items": null,
            "bottom": null,
            "_model_module": "@jupyter-widgets/base",
            "top": null,
            "grid_column": null,
            "overflow_y": null,
            "overflow_x": null,
            "grid_auto_flow": null,
            "grid_area": null,
            "grid_template_columns": null,
            "flex": null,
            "_model_name": "LayoutModel",
            "justify_items": null,
            "grid_row": null,
            "max_height": null,
            "align_content": null,
            "visibility": null,
            "align_self": null,
            "height": null,
            "min_height": null,
            "padding": null,
            "grid_auto_rows": null,
            "grid_gap": null,
            "max_width": null,
            "order": null,
            "_view_module_version": "1.2.0",
            "grid_template_areas": null,
            "object_position": null,
            "object_fit": null,
            "grid_auto_columns": null,
            "margin": null,
            "display": null,
            "left": null
          }
        },
        "fe727ea8c5d84f59aa0e62a11f2b1300": {
          "model_module": "@jupyter-widgets/controls",
          "model_name": "HBoxModel",
          "model_module_version": "1.5.0",
          "state": {
            "_view_name": "HBoxView",
            "_dom_classes": [],
            "_model_name": "HBoxModel",
            "_view_module": "@jupyter-widgets/controls",
            "_model_module_version": "1.5.0",
            "_view_count": null,
            "_view_module_version": "1.5.0",
            "box_style": "",
            "layout": "IPY_MODEL_9d8da158903042b5a317b45447419b90",
            "_model_module": "@jupyter-widgets/controls",
            "children": [
              "IPY_MODEL_074f08a19503474886fc84b90371ad27",
              "IPY_MODEL_aa50ba3302a84855899efd744f160ced",
              "IPY_MODEL_2bbc7e5792484ee0a086749ee455b251"
            ]
          }
        },
        "9d8da158903042b5a317b45447419b90": {
          "model_module": "@jupyter-widgets/base",
          "model_name": "LayoutModel",
          "model_module_version": "1.2.0",
          "state": {
            "_view_name": "LayoutView",
            "grid_template_rows": null,
            "right": null,
            "justify_content": null,
            "_view_module": "@jupyter-widgets/base",
            "overflow": null,
            "_model_module_version": "1.2.0",
            "_view_count": null,
            "flex_flow": null,
            "width": null,
            "min_width": null,
            "border": null,
            "align_items": null,
            "bottom": null,
            "_model_module": "@jupyter-widgets/base",
            "top": null,
            "grid_column": null,
            "overflow_y": null,
            "overflow_x": null,
            "grid_auto_flow": null,
            "grid_area": null,
            "grid_template_columns": null,
            "flex": null,
            "_model_name": "LayoutModel",
            "justify_items": null,
            "grid_row": null,
            "max_height": null,
            "align_content": null,
            "visibility": null,
            "align_self": null,
            "height": null,
            "min_height": null,
            "padding": null,
            "grid_auto_rows": null,
            "grid_gap": null,
            "max_width": null,
            "order": null,
            "_view_module_version": "1.2.0",
            "grid_template_areas": null,
            "object_position": null,
            "object_fit": null,
            "grid_auto_columns": null,
            "margin": null,
            "display": null,
            "left": null
          }
        },
        "074f08a19503474886fc84b90371ad27": {
          "model_module": "@jupyter-widgets/controls",
          "model_name": "HTMLModel",
          "model_module_version": "1.5.0",
          "state": {
            "_view_name": "HTMLView",
            "style": "IPY_MODEL_2966bbd1106e47f198153501734cdeb4",
            "_dom_classes": [],
            "description": "",
            "_model_name": "HTMLModel",
            "placeholder": "​",
            "_view_module": "@jupyter-widgets/controls",
            "_model_module_version": "1.5.0",
            "value": "100%",
            "_view_count": null,
            "_view_module_version": "1.5.0",
            "description_tooltip": null,
            "_model_module": "@jupyter-widgets/controls",
            "layout": "IPY_MODEL_553e6e24e95b45aaa991d784a9fb4bee"
          }
        },
        "aa50ba3302a84855899efd744f160ced": {
          "model_module": "@jupyter-widgets/controls",
          "model_name": "FloatProgressModel",
          "model_module_version": "1.5.0",
          "state": {
            "_view_name": "ProgressView",
            "style": "IPY_MODEL_28ef02fe387c41c7a344b9424bfd616d",
            "_dom_classes": [],
            "description": "",
            "_model_name": "FloatProgressModel",
            "bar_style": "success",
            "max": 26,
            "_view_module": "@jupyter-widgets/controls",
            "_model_module_version": "1.5.0",
            "value": 26,
            "_view_count": null,
            "_view_module_version": "1.5.0",
            "orientation": "horizontal",
            "min": 0,
            "description_tooltip": null,
            "_model_module": "@jupyter-widgets/controls",
            "layout": "IPY_MODEL_1d491b82953a4206a29758cbc1835c8d"
          }
        },
        "2bbc7e5792484ee0a086749ee455b251": {
          "model_module": "@jupyter-widgets/controls",
          "model_name": "HTMLModel",
          "model_module_version": "1.5.0",
          "state": {
            "_view_name": "HTMLView",
            "style": "IPY_MODEL_8c898a5eac624e4ca482a66e62997084",
            "_dom_classes": [],
            "description": "",
            "_model_name": "HTMLModel",
            "placeholder": "​",
            "_view_module": "@jupyter-widgets/controls",
            "_model_module_version": "1.5.0",
            "value": " 26/26 [7:39:17&lt;00:00, 771.41s/it]",
            "_view_count": null,
            "_view_module_version": "1.5.0",
            "description_tooltip": null,
            "_model_module": "@jupyter-widgets/controls",
            "layout": "IPY_MODEL_845f542570d04e809f87a968fd1c09e3"
          }
        },
        "2966bbd1106e47f198153501734cdeb4": {
          "model_module": "@jupyter-widgets/controls",
          "model_name": "DescriptionStyleModel",
          "model_module_version": "1.5.0",
          "state": {
            "_view_name": "StyleView",
            "_model_name": "DescriptionStyleModel",
            "description_width": "",
            "_view_module": "@jupyter-widgets/base",
            "_model_module_version": "1.5.0",
            "_view_count": null,
            "_view_module_version": "1.2.0",
            "_model_module": "@jupyter-widgets/controls"
          }
        },
        "553e6e24e95b45aaa991d784a9fb4bee": {
          "model_module": "@jupyter-widgets/base",
          "model_name": "LayoutModel",
          "model_module_version": "1.2.0",
          "state": {
            "_view_name": "LayoutView",
            "grid_template_rows": null,
            "right": null,
            "justify_content": null,
            "_view_module": "@jupyter-widgets/base",
            "overflow": null,
            "_model_module_version": "1.2.0",
            "_view_count": null,
            "flex_flow": null,
            "width": null,
            "min_width": null,
            "border": null,
            "align_items": null,
            "bottom": null,
            "_model_module": "@jupyter-widgets/base",
            "top": null,
            "grid_column": null,
            "overflow_y": null,
            "overflow_x": null,
            "grid_auto_flow": null,
            "grid_area": null,
            "grid_template_columns": null,
            "flex": null,
            "_model_name": "LayoutModel",
            "justify_items": null,
            "grid_row": null,
            "max_height": null,
            "align_content": null,
            "visibility": null,
            "align_self": null,
            "height": null,
            "min_height": null,
            "padding": null,
            "grid_auto_rows": null,
            "grid_gap": null,
            "max_width": null,
            "order": null,
            "_view_module_version": "1.2.0",
            "grid_template_areas": null,
            "object_position": null,
            "object_fit": null,
            "grid_auto_columns": null,
            "margin": null,
            "display": null,
            "left": null
          }
        },
        "28ef02fe387c41c7a344b9424bfd616d": {
          "model_module": "@jupyter-widgets/controls",
          "model_name": "ProgressStyleModel",
          "model_module_version": "1.5.0",
          "state": {
            "_view_name": "StyleView",
            "_model_name": "ProgressStyleModel",
            "description_width": "",
            "_view_module": "@jupyter-widgets/base",
            "_model_module_version": "1.5.0",
            "_view_count": null,
            "_view_module_version": "1.2.0",
            "bar_color": null,
            "_model_module": "@jupyter-widgets/controls"
          }
        },
        "1d491b82953a4206a29758cbc1835c8d": {
          "model_module": "@jupyter-widgets/base",
          "model_name": "LayoutModel",
          "model_module_version": "1.2.0",
          "state": {
            "_view_name": "LayoutView",
            "grid_template_rows": null,
            "right": null,
            "justify_content": null,
            "_view_module": "@jupyter-widgets/base",
            "overflow": null,
            "_model_module_version": "1.2.0",
            "_view_count": null,
            "flex_flow": null,
            "width": null,
            "min_width": null,
            "border": null,
            "align_items": null,
            "bottom": null,
            "_model_module": "@jupyter-widgets/base",
            "top": null,
            "grid_column": null,
            "overflow_y": null,
            "overflow_x": null,
            "grid_auto_flow": null,
            "grid_area": null,
            "grid_template_columns": null,
            "flex": null,
            "_model_name": "LayoutModel",
            "justify_items": null,
            "grid_row": null,
            "max_height": null,
            "align_content": null,
            "visibility": null,
            "align_self": null,
            "height": null,
            "min_height": null,
            "padding": null,
            "grid_auto_rows": null,
            "grid_gap": null,
            "max_width": null,
            "order": null,
            "_view_module_version": "1.2.0",
            "grid_template_areas": null,
            "object_position": null,
            "object_fit": null,
            "grid_auto_columns": null,
            "margin": null,
            "display": null,
            "left": null
          }
        },
        "8c898a5eac624e4ca482a66e62997084": {
          "model_module": "@jupyter-widgets/controls",
          "model_name": "DescriptionStyleModel",
          "model_module_version": "1.5.0",
          "state": {
            "_view_name": "StyleView",
            "_model_name": "DescriptionStyleModel",
            "description_width": "",
            "_view_module": "@jupyter-widgets/base",
            "_model_module_version": "1.5.0",
            "_view_count": null,
            "_view_module_version": "1.2.0",
            "_model_module": "@jupyter-widgets/controls"
          }
        },
        "845f542570d04e809f87a968fd1c09e3": {
          "model_module": "@jupyter-widgets/base",
          "model_name": "LayoutModel",
          "model_module_version": "1.2.0",
          "state": {
            "_view_name": "LayoutView",
            "grid_template_rows": null,
            "right": null,
            "justify_content": null,
            "_view_module": "@jupyter-widgets/base",
            "overflow": null,
            "_model_module_version": "1.2.0",
            "_view_count": null,
            "flex_flow": null,
            "width": null,
            "min_width": null,
            "border": null,
            "align_items": null,
            "bottom": null,
            "_model_module": "@jupyter-widgets/base",
            "top": null,
            "grid_column": null,
            "overflow_y": null,
            "overflow_x": null,
            "grid_auto_flow": null,
            "grid_area": null,
            "grid_template_columns": null,
            "flex": null,
            "_model_name": "LayoutModel",
            "justify_items": null,
            "grid_row": null,
            "max_height": null,
            "align_content": null,
            "visibility": null,
            "align_self": null,
            "height": null,
            "min_height": null,
            "padding": null,
            "grid_auto_rows": null,
            "grid_gap": null,
            "max_width": null,
            "order": null,
            "_view_module_version": "1.2.0",
            "grid_template_areas": null,
            "object_position": null,
            "object_fit": null,
            "grid_auto_columns": null,
            "margin": null,
            "display": null,
            "left": null
          }
        },
        "b33df622229d4b3b85e2b095217983bd": {
          "model_module": "@jupyter-widgets/controls",
          "model_name": "HBoxModel",
          "model_module_version": "1.5.0",
          "state": {
            "_view_name": "HBoxView",
            "_dom_classes": [],
            "_model_name": "HBoxModel",
            "_view_module": "@jupyter-widgets/controls",
            "_model_module_version": "1.5.0",
            "_view_count": null,
            "_view_module_version": "1.5.0",
            "box_style": "",
            "layout": "IPY_MODEL_f1913618f1994fcf9e1685dfef6efdb4",
            "_model_module": "@jupyter-widgets/controls",
            "children": [
              "IPY_MODEL_e9464ef7fbf24065a70b0b10257b2c9a",
              "IPY_MODEL_f22fd6b0ba4d4c39a8f002158342003d",
              "IPY_MODEL_97059559af1e41b383335fb5c7284a74"
            ]
          }
        },
        "f1913618f1994fcf9e1685dfef6efdb4": {
          "model_module": "@jupyter-widgets/base",
          "model_name": "LayoutModel",
          "model_module_version": "1.2.0",
          "state": {
            "_view_name": "LayoutView",
            "grid_template_rows": null,
            "right": null,
            "justify_content": null,
            "_view_module": "@jupyter-widgets/base",
            "overflow": null,
            "_model_module_version": "1.2.0",
            "_view_count": null,
            "flex_flow": null,
            "width": null,
            "min_width": null,
            "border": null,
            "align_items": null,
            "bottom": null,
            "_model_module": "@jupyter-widgets/base",
            "top": null,
            "grid_column": null,
            "overflow_y": null,
            "overflow_x": null,
            "grid_auto_flow": null,
            "grid_area": null,
            "grid_template_columns": null,
            "flex": null,
            "_model_name": "LayoutModel",
            "justify_items": null,
            "grid_row": null,
            "max_height": null,
            "align_content": null,
            "visibility": null,
            "align_self": null,
            "height": null,
            "min_height": null,
            "padding": null,
            "grid_auto_rows": null,
            "grid_gap": null,
            "max_width": null,
            "order": null,
            "_view_module_version": "1.2.0",
            "grid_template_areas": null,
            "object_position": null,
            "object_fit": null,
            "grid_auto_columns": null,
            "margin": null,
            "display": null,
            "left": null
          }
        },
        "e9464ef7fbf24065a70b0b10257b2c9a": {
          "model_module": "@jupyter-widgets/controls",
          "model_name": "HTMLModel",
          "model_module_version": "1.5.0",
          "state": {
            "_view_name": "HTMLView",
            "style": "IPY_MODEL_e252c57c081247f79c3d525de93b87ab",
            "_dom_classes": [],
            "description": "",
            "_model_name": "HTMLModel",
            "placeholder": "​",
            "_view_module": "@jupyter-widgets/controls",
            "_model_module_version": "1.5.0",
            "value": " 42%",
            "_view_count": null,
            "_view_module_version": "1.5.0",
            "description_tooltip": null,
            "_model_module": "@jupyter-widgets/controls",
            "layout": "IPY_MODEL_6f34db2cd6da40a68a3814f914aef470"
          }
        },
        "f22fd6b0ba4d4c39a8f002158342003d": {
          "model_module": "@jupyter-widgets/controls",
          "model_name": "FloatProgressModel",
          "model_module_version": "1.5.0",
          "state": {
            "_view_name": "ProgressView",
            "style": "IPY_MODEL_d2f5d6c03e11476a9f6f549d1b7072e6",
            "_dom_classes": [],
            "description": "",
            "_model_name": "FloatProgressModel",
            "bar_style": "",
            "max": 26,
            "_view_module": "@jupyter-widgets/controls",
            "_model_module_version": "1.5.0",
            "value": 11,
            "_view_count": null,
            "_view_module_version": "1.5.0",
            "orientation": "horizontal",
            "min": 0,
            "description_tooltip": null,
            "_model_module": "@jupyter-widgets/controls",
            "layout": "IPY_MODEL_a58d3bc46bfb44b1adf84494c1950f12"
          }
        },
        "97059559af1e41b383335fb5c7284a74": {
          "model_module": "@jupyter-widgets/controls",
          "model_name": "HTMLModel",
          "model_module_version": "1.5.0",
          "state": {
            "_view_name": "HTMLView",
            "style": "IPY_MODEL_8374b26e16f348c3989fae6c909fa024",
            "_dom_classes": [],
            "description": "",
            "_model_name": "HTMLModel",
            "placeholder": "​",
            "_view_module": "@jupyter-widgets/controls",
            "_model_module_version": "1.5.0",
            "value": " 11/26 [3:29:49&lt;8:41:55, 2087.67s/it]",
            "_view_count": null,
            "_view_module_version": "1.5.0",
            "description_tooltip": null,
            "_model_module": "@jupyter-widgets/controls",
            "layout": "IPY_MODEL_0f3739d8bf134f669d7876886a45566a"
          }
        },
        "e252c57c081247f79c3d525de93b87ab": {
          "model_module": "@jupyter-widgets/controls",
          "model_name": "DescriptionStyleModel",
          "model_module_version": "1.5.0",
          "state": {
            "_view_name": "StyleView",
            "_model_name": "DescriptionStyleModel",
            "description_width": "",
            "_view_module": "@jupyter-widgets/base",
            "_model_module_version": "1.5.0",
            "_view_count": null,
            "_view_module_version": "1.2.0",
            "_model_module": "@jupyter-widgets/controls"
          }
        },
        "6f34db2cd6da40a68a3814f914aef470": {
          "model_module": "@jupyter-widgets/base",
          "model_name": "LayoutModel",
          "model_module_version": "1.2.0",
          "state": {
            "_view_name": "LayoutView",
            "grid_template_rows": null,
            "right": null,
            "justify_content": null,
            "_view_module": "@jupyter-widgets/base",
            "overflow": null,
            "_model_module_version": "1.2.0",
            "_view_count": null,
            "flex_flow": null,
            "width": null,
            "min_width": null,
            "border": null,
            "align_items": null,
            "bottom": null,
            "_model_module": "@jupyter-widgets/base",
            "top": null,
            "grid_column": null,
            "overflow_y": null,
            "overflow_x": null,
            "grid_auto_flow": null,
            "grid_area": null,
            "grid_template_columns": null,
            "flex": null,
            "_model_name": "LayoutModel",
            "justify_items": null,
            "grid_row": null,
            "max_height": null,
            "align_content": null,
            "visibility": null,
            "align_self": null,
            "height": null,
            "min_height": null,
            "padding": null,
            "grid_auto_rows": null,
            "grid_gap": null,
            "max_width": null,
            "order": null,
            "_view_module_version": "1.2.0",
            "grid_template_areas": null,
            "object_position": null,
            "object_fit": null,
            "grid_auto_columns": null,
            "margin": null,
            "display": null,
            "left": null
          }
        },
        "d2f5d6c03e11476a9f6f549d1b7072e6": {
          "model_module": "@jupyter-widgets/controls",
          "model_name": "ProgressStyleModel",
          "model_module_version": "1.5.0",
          "state": {
            "_view_name": "StyleView",
            "_model_name": "ProgressStyleModel",
            "description_width": "",
            "_view_module": "@jupyter-widgets/base",
            "_model_module_version": "1.5.0",
            "_view_count": null,
            "_view_module_version": "1.2.0",
            "bar_color": null,
            "_model_module": "@jupyter-widgets/controls"
          }
        },
        "a58d3bc46bfb44b1adf84494c1950f12": {
          "model_module": "@jupyter-widgets/base",
          "model_name": "LayoutModel",
          "model_module_version": "1.2.0",
          "state": {
            "_view_name": "LayoutView",
            "grid_template_rows": null,
            "right": null,
            "justify_content": null,
            "_view_module": "@jupyter-widgets/base",
            "overflow": null,
            "_model_module_version": "1.2.0",
            "_view_count": null,
            "flex_flow": null,
            "width": null,
            "min_width": null,
            "border": null,
            "align_items": null,
            "bottom": null,
            "_model_module": "@jupyter-widgets/base",
            "top": null,
            "grid_column": null,
            "overflow_y": null,
            "overflow_x": null,
            "grid_auto_flow": null,
            "grid_area": null,
            "grid_template_columns": null,
            "flex": null,
            "_model_name": "LayoutModel",
            "justify_items": null,
            "grid_row": null,
            "max_height": null,
            "align_content": null,
            "visibility": null,
            "align_self": null,
            "height": null,
            "min_height": null,
            "padding": null,
            "grid_auto_rows": null,
            "grid_gap": null,
            "max_width": null,
            "order": null,
            "_view_module_version": "1.2.0",
            "grid_template_areas": null,
            "object_position": null,
            "object_fit": null,
            "grid_auto_columns": null,
            "margin": null,
            "display": null,
            "left": null
          }
        },
        "8374b26e16f348c3989fae6c909fa024": {
          "model_module": "@jupyter-widgets/controls",
          "model_name": "DescriptionStyleModel",
          "model_module_version": "1.5.0",
          "state": {
            "_view_name": "StyleView",
            "_model_name": "DescriptionStyleModel",
            "description_width": "",
            "_view_module": "@jupyter-widgets/base",
            "_model_module_version": "1.5.0",
            "_view_count": null,
            "_view_module_version": "1.2.0",
            "_model_module": "@jupyter-widgets/controls"
          }
        },
        "0f3739d8bf134f669d7876886a45566a": {
          "model_module": "@jupyter-widgets/base",
          "model_name": "LayoutModel",
          "model_module_version": "1.2.0",
          "state": {
            "_view_name": "LayoutView",
            "grid_template_rows": null,
            "right": null,
            "justify_content": null,
            "_view_module": "@jupyter-widgets/base",
            "overflow": null,
            "_model_module_version": "1.2.0",
            "_view_count": null,
            "flex_flow": null,
            "width": null,
            "min_width": null,
            "border": null,
            "align_items": null,
            "bottom": null,
            "_model_module": "@jupyter-widgets/base",
            "top": null,
            "grid_column": null,
            "overflow_y": null,
            "overflow_x": null,
            "grid_auto_flow": null,
            "grid_area": null,
            "grid_template_columns": null,
            "flex": null,
            "_model_name": "LayoutModel",
            "justify_items": null,
            "grid_row": null,
            "max_height": null,
            "align_content": null,
            "visibility": null,
            "align_self": null,
            "height": null,
            "min_height": null,
            "padding": null,
            "grid_auto_rows": null,
            "grid_gap": null,
            "max_width": null,
            "order": null,
            "_view_module_version": "1.2.0",
            "grid_template_areas": null,
            "object_position": null,
            "object_fit": null,
            "grid_auto_columns": null,
            "margin": null,
            "display": null,
            "left": null
          }
        }
      }
    }
  },
  "nbformat": 4,
  "nbformat_minor": 0
}